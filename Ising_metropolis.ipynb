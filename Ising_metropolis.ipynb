{
 "cells": [
  {
   "cell_type": "markdown",
   "metadata": {},
   "source": [
    "# Computational Statistical Physics: Final Assessment\n",
    "\n",
    "## Instructions\n",
    "\n",
    "1. Solve each of the problems in this notebook.\n",
    "2. Document any piece of code that is written to solve the problems.\n",
    "3. Explain the reasoning behind each solution in Markdown cells.\n",
    "4. **After solving all exercises, execute the whole notebook and save it as HTML**.\n",
    "5. Send both, the notebook .ipynb file and the HTML file to: leopoldo.carbajal@correo.nucleares.unam.mx by **11:59 PM (Mexico City Time) January 17th, 2021**.\n",
    "\n",
    "No assessments will be marked if received after the deadline: **11:59 PM (Mexico City Time) January 17th, 2021**.\n",
    "\n",
    "## Reading material\n",
    "\n",
    "1. M.E.J. Newman & G.T. Barkema, *Monte Carlo Methods in Statistical Physics, Clarendon Press*, Oxford Press.\n",
    "2. D.P. Landau & K. Binder, *A guide to monte carlo simulations in statistical physics*, Cambridge Press.\n",
    "3. Course slides.\n",
    "\n",
    "## Introduction\n",
    "\n",
    "This notebook contains **three exercises** that will be used to assess the course.\n",
    "\n",
    "All problems are about MC simulations of the 2-D Ising model, that can be generalized to model more complex problems in phyiscs and beyond.\n",
    "\n",
    "### Ising Model Definition\n",
    "\n",
    "We define the Ising model as before, as an array of spins with up (+1) and down states (-1) on a rectangular grid of arbitrary size. \n",
    "\n",
    "The Hamiltonian for the 2-D Ising model is given by:\n",
    "\n",
    "$$H = -J\\sum_{\\langle i,j \\rangle}s_is_j - h\\sum_{i=1}^{N}s_i\\ ,$$\n",
    "\n",
    "where $s_i$ are the spins on the rectangular grid, $J$ is the interaction strenght between spins and $h$ is an external field acting upon the spins.\n",
    "\n",
    "We will consider that only nearest neighbors can interact, that is, only up, down, left and right interactions are allowed.\n",
    "\n",
    "This time, we are allowing the spin system to have arbitrary size, that is, the system comprises a total of $N_{spins} = N_X\\times N_Y$, where $N_X$ and $N_Y$ are the number of spins along the $x$-axis and $y$-axis, respectively.\n",
    "\n",
    "Exact solutions in the thermodynamic limit have been found for $h=0$. **See Onsager's 1944 paper in Google Drive (Onsager1944) for details**."
   ]
  },
  {
   "cell_type": "code",
   "execution_count": 1,
   "metadata": {},
   "outputs": [],
   "source": [
    "from numpy import*\n",
    "import matplotlib.pyplot as plt\n",
    "%matplotlib inline\n",
    "import os\n",
    "import copy\n",
    "from tqdm.notebook import tqdm"
   ]
  },
  {
   "cell_type": "markdown",
   "metadata": {},
   "source": [
    "## 2-D Ising Model Parameters\n",
    "\n",
    "The model parameters to be set are:\n",
    "\n",
    "1. Total number of spins, $N_{spins} = N_X\\times N_Y$.\n",
    "2. Interaction strength, $J$.\n",
    "3. External field, $h$. **In this notebook we will consider only $h=0$**.\n",
    "4. Temperature, $kT$.\n",
    "\n",
    "The inverse of temperature $\\beta=1/kT$, is automatically defined when set $kT$."
   ]
  },
  {
   "cell_type": "code",
   "execution_count": 2,
   "metadata": {},
   "outputs": [],
   "source": [
    "# Number of spins in 2-D periodic lattice\n",
    "NX = 10\n",
    "NY = 10\n",
    "Nspins = NX*NY\n",
    "\n",
    "# Interaction strenght\n",
    "J = 1.0\n",
    "\n",
    "# External field\n",
    "h = 0.0"
   ]
  },
  {
   "cell_type": "markdown",
   "metadata": {},
   "source": [
    "---\n",
    "\n",
    "## Baseline Algorithm: Metropolis Algorithm\n",
    "\n",
    "We implement the Metropolis (-Hastings) MC algorithm. This algorithm implements the following methods:\n",
    "\n",
    "- Importance sampling.\n",
    "- Single spin flip -- This restricts the step in energy space, keeping ergodicity.\n",
    "- Optimal acceptance probability $P(\\mu \\rightarrow \\nu) = g(\\mu \\rightarrow \\nu)A(\\mu \\rightarrow \\nu)$.\n",
    "\n",
    "\n",
    "$$\\frac{P(\\mu \\rightarrow \\nu)}{P(\\nu \\rightarrow \\mu)} = \\frac{g(\\mu \\rightarrow \\nu)A(\\mu \\rightarrow \\nu)}{g(\\nu \\rightarrow \\mu)A(\\nu \\rightarrow \\mu)} = \\frac{A(\\mu \\rightarrow \\nu)}{A(\\nu \\rightarrow \\mu)} = e^{-\\beta(E_\\nu - E_\\mu)}$$\n",
    "\n",
    "The acceptance probabilities can be chosen arbitrary, always that these fulfill the detailed balance condition (above).\n",
    "\n",
    "In particular, $A$ can take the form\n",
    "\n",
    "- Initial energy: $E_\\mu$\n",
    "- Final energy: $E_\\nu$\n",
    "- Difference in energy: $\\Delta E = E_\\nu - E_\\mu$\n",
    "\n",
    "$$A(\\mu \\rightarrow \\nu) = \\begin{cases} \n",
    "                           e^{-\\beta(E_\\nu - E_\\mu)} = e^{-\\beta\\Delta E}, & E_\\nu - E_\\mu > 0\\\\\n",
    "                           1, & \\mbox{Otherwise}\n",
    "                           \\end{cases}\n",
    "   $$\n",
    "   \n",
    "Recipe:\n",
    "\n",
    "1. Randomly chose a spin to flip from the initial configuration.\n",
    "2. Flip it, call this new configuration the test move.\n",
    "3. Compute initial and test energy.\n",
    "4. Compute change in energy.\n",
    "5. Compute $A(\\mu \\rightarrow \\nu)$.\n",
    "6. Repeat."
   ]
  },
  {
   "cell_type": "markdown",
   "metadata": {},
   "source": [
    "## Metropolis Algorithm Implementation\n",
    "\n",
    "First, the function below generates a system with $N$ spins in a random way. See documentation in function for details. \n",
    "\n",
    "<span style=\"color:blue\">**NOTE: All functions implemented for solving a problem should be documented as the function below.**</span>"
   ]
  },
  {
   "cell_type": "code",
   "execution_count": 3,
   "metadata": {},
   "outputs": [],
   "source": [
    "def generate_spins(N, dim=1, seed=0):\n",
    "    \"\"\"\n",
    "    Function to generate a random array of spins.\n",
    "    \n",
    "    Parameters\n",
    "    ----------\n",
    "    N : Integer or tuple containing the size of the 1-D or 2-D array of spins.\n",
    "    dim : Dimensionality of the array of spins. This must be consistent with N.\n",
    "    seed : Seed of pseudo-random number generator to be used. Use this paramter\n",
    "           whenever reproducibility is needed.\n",
    "    \n",
    "    Returns\n",
    "    -------\n",
    "    spins : 1-D or 2-D array of spins.\n",
    "    \n",
    "    Example\n",
    "    -------\n",
    "    For generating a 5x5 2-D array of spins we use this function as follows:\n",
    "    \n",
    "    generate_spins(N=(5,5), dim=2, seed=0)\n",
    "    \n",
    "    this gives the following array\n",
    "    \n",
    "    array([[ 1., -1., -1., -1.,  1.],\n",
    "           [ 1.,  1.,  1.,  1.,  1.],\n",
    "           [ 1., -1.,  1., -1.,  1.],\n",
    "           [-1.,  1.,  1., -1., -1.],\n",
    "           [-1., -1.,  1.,  1.,  1.]])\n",
    "    \"\"\"\n",
    "    \n",
    "    # Pseudo-random number generator\n",
    "   # generator = Generator( PCG64(seed) )\n",
    "\n",
    "    # Initial condition for spins\n",
    "    if (dim == 1):\n",
    "        if isinstance(N,int):\n",
    "            spins = random.uniform(low=0.0, high=1.0, size=N)\n",
    "        else:\n",
    "            raise ValueError('N should be an integer for dim=1')\n",
    "    else:\n",
    "        if ( isinstance(N,tuple) & (len(N)==2) & all([isinstance(n,int) for n in N]) ):\n",
    "            spins = random.uniform(low=0.0, high=1.0, size=N)\n",
    "        else:\n",
    "            raise ValueError('N should be a tuple of two integers for dim=2, N=(NX,NY)')\n",
    "\n",
    "    # Spins up or down\n",
    "    bool_mask = spins < 0.5\n",
    "\n",
    "    spins[~bool_mask] = 1.0 # up\n",
    "    spins[bool_mask]  = -1.0  # down\n",
    "    \n",
    "    return spins"
   ]
  },
  {
   "cell_type": "markdown",
   "metadata": {},
   "source": [
    "## Visualization as a tool\n",
    "\n",
    "We use some visualization as a tool for qualitative analysis. The function below plots the spin system, white and black means spins with values $s_i=-1$ and $s_i=1$, respectively."
   ]
  },
  {
   "cell_type": "code",
   "execution_count": 4,
   "metadata": {},
   "outputs": [],
   "source": [
    "def simple_visualization(spins, grid=False, annotate=False, mask=None, mask_other=None, mask_value='O'):\n",
    "    \"\"\"\n",
    "    Function that generates visualization of a system of spins with various annotations.\n",
    "    \n",
    "    Parameters\n",
    "    ----------\n",
    "    spins : 2-D numpy array containing spins' orientations.\n",
    "    grid : Boolean flag to indicate whether separation between spins are plotted (True) or not (False).\n",
    "    annotate : Boolean flag to indicate whether spins are enumerated (True) or not (False).\n",
    "    mask : Boolean mask to be used together with mask_value to only annotate those spins with True values in mask.\n",
    "           mask must have the same shape than spins.\n",
    "    mask_other : Boolean mask to be used to only annotate those spins with True values in mask.\n",
    "                 All spins with True values in mask_other are annotated with an `X`. mask_other must have \n",
    "                 the same shape than spins.\n",
    "    mask_value : String value to be used to annotate spins together with mask.\n",
    "    \n",
    "    Returns\n",
    "    -------\n",
    "    \n",
    "    \n",
    "    Example\n",
    "    -------\n",
    "    We can generate a visualization of a 5x7 system of spins as follows:\n",
    "    \n",
    "    simple_visualization(spins=generate_spins(N=(5,7), dim=2, seed=0), grid=True, annotate=True)\n",
    "    \n",
    "    \"\"\"\n",
    "    \n",
    "    if mask is not None:\n",
    "        assert spins.shape == mask.shape, 'Parameters spins and mask must have the same shape'\n",
    "\n",
    "    if mask_other is not None:\n",
    "        assert spins.shape == mask_other.shape, 'Parameters spins and mask must have the same shape'\n",
    "    \n",
    "    # Black squares represent spins -1\n",
    "    # Black squares represent spins +1\n",
    "    fig, ax = plt.subplots()\n",
    "\n",
    "    # Generate plot of spins\n",
    "    im = ax.imshow(spins)\n",
    "    \n",
    "    # Ticks\n",
    "    yticks_position = arange(0,spins.shape[0]) - 0.5\n",
    "    xticks_position = arange(0,spins.shape[1]) - 0.5\n",
    "    plt.xticks(ticks=xticks_position)\n",
    "    plt.yticks(ticks=yticks_position)\n",
    "    \n",
    "    plt.tick_params(axis='both',\n",
    "                    which='both',\n",
    "                    bottom=False,\n",
    "                    top=False,\n",
    "                    left=False,\n",
    "                    right=False,\n",
    "                    labelbottom=False,\n",
    "                    labelleft=False\n",
    "                   )\n",
    "    \n",
    "    if annotate:\n",
    "        # Loop over data dimensions and create text annotations.\n",
    "        for ii in range(spins.shape[0]): # rows\n",
    "            for jj in range(spins.shape[1]): # cols\n",
    "                spin_number = jj + ii*spins.shape[1] + 1\n",
    "                text = ax.text(jj, ii, spin_number,\n",
    "                               ha=\"center\", va=\"center\", color=\"r\")\n",
    "                \n",
    "    if (mask is not None):\n",
    "        # Loop over data dimensions and create text annotations.\n",
    "        for ii in range(spins.shape[0]): # rows\n",
    "            for jj in range(spins.shape[1]): # cols\n",
    "                if mask[ii,jj]:\n",
    "                    text = ax.text(jj, ii, mask_value,\n",
    "                                   ha=\"center\", va=\"center\", color=\"r\")\n",
    "    \n",
    "    if (mask_other is not None):\n",
    "        # Loop over data dimensions and create text annotations.\n",
    "        for ii in range(spins.shape[0]): # rows\n",
    "            for jj in range(spins.shape[1]): # cols\n",
    "                if mask_other[ii,jj]:\n",
    "                    text = ax.text(jj, ii, 'X',\n",
    "                                   ha=\"center\", va=\"center\", color=\"r\")\n",
    "                    \n",
    "    \n",
    "    if grid:\n",
    "        plt.grid(b=True, which='major', axis='both')\n",
    "    \n",
    "    plt.xlabel(r'$N_X=$' + str(spins.shape[1]))\n",
    "    plt.ylabel(r'$N_Y=$' + str(spins.shape[0]))        \n",
    "    \n",
    "    # Set colormap to gray\n",
    "    plt.set_cmap(cmap='gray')\n",
    "\n",
    "    plt.show()"
   ]
  },
  {
   "cell_type": "code",
   "execution_count": 7,
   "metadata": {},
   "outputs": [
    {
     "data": {
      "image/png": "[encoded data removed]",
      "text/plain": [
       "<Figure size 432x288 with 1 Axes>"
      ]
     },
     "metadata": {},
     "output_type": "display_data"
    }
   ],
   "source": [
    "simple_visualization(spins=generate_spins(N=(5,5), dim=2, seed=0), grid=True, annotate=True)"
   ]
  },
  {
   "cell_type": "markdown",
   "metadata": {},
   "source": [
    "## 2-D Ising model: Hamiltonian for PBC\n",
    "\n",
    "In the cells below we implement a function that computes the Hamiltonian of the 2-D Ising model with PBC.\n",
    "\n",
    "<span style=\"color:red\">**NOTE: This version of `H_2DI` contains a bugfix with respect to previous notebooks. Please use this version of the function from now on.**</span>."
   ]
  },
  {
   "cell_type": "code",
   "execution_count": 8,
   "metadata": {},
   "outputs": [],
   "source": [
    "def H_2DI(s, J=1.0, h=0.0, PBC=True):\n",
    "    \"\"\"\n",
    "    Hamiltonian of the 1-D Ising model.\n",
    "    \n",
    "    Parameters\n",
    "    ----------\n",
    "    s : numpy array of spins, up and down.\n",
    "    J : interaction strength.\n",
    "    h : external field intensity.\n",
    "    PBC : boolean flag to determine whether PBC are used (True) or not (False)\n",
    "    \n",
    "    Returns\n",
    "    -------\n",
    "    H : Hamiltonian of 2-D Ising model\n",
    "    \"\"\"\n",
    "\n",
    "    # PBC = J*s[-1]*s[0]\n",
    "    if PBC:\n",
    "        # s[i,j] = s[row i,col j]\n",
    "        # i == rows\n",
    "        # j == columns\n",
    "        \n",
    "        # Interaction spin-spin term\n",
    "        \n",
    "        # slicing, numpy\n",
    "        # Internal spins - interaction with spins to the right\n",
    "        H =  ( s[1:-1,1:-1]*s[1:-1,2:] ).sum()\n",
    "        # Internal spins - interaction with spins to the left\n",
    "        H += ( s[1:-1,1:-1]*s[1:-1,0:-2] ).sum()\n",
    "        # Internal spins - interaction with spins above\n",
    "        H += ( s[1:-1,1:-1]*s[0:-2,1:-1] ).sum()\n",
    "        # Internal spins - interaction with spins below\n",
    "        H += ( s[1:-1,1:-1]*s[2:,1:-1] ).sum()\n",
    "        \n",
    "        # Right boundary -- Order = Left + Right + Above + Below\n",
    "        # Interaction with spins to the left\n",
    "        H += ( s[1:-1,-1]*s[1:-1,-2] ).sum()\n",
    "        # Interaction with spins to the right (PBC)\n",
    "        H += ( s[1:-1,-1]*s[1:-1,0] ).sum()\n",
    "        # Interaction with spins above\n",
    "        H += ( s[1:-1,-1]*s[0:-2,-1] ).sum()\n",
    "        # Interaction with spins below\n",
    "        H += ( s[1:-1,-1]*s[2:,-1] ).sum()\n",
    "        \n",
    "        # Left boundary\n",
    "        H += ( s[1:-1,0]*s[1:-1,-1] + s[1:-1,0]*s[1:-1,1] + s[1:-1,0]*s[0:-2,0] + s[1:-1,0]*s[2:,0] ).sum()\n",
    "        \n",
    "        # Top boundary\n",
    "        H += ( s[0,1:-1]*s[0,0:-2] + s[0,1:-1]*s[0,2:] + s[0,1:-1]*s[-1,1:-1] + s[0,1:-1]*s[1,1:-1] ).sum()\n",
    "        \n",
    "        # Bottom boundary\n",
    "        H += ( s[-1,1:-1]*s[-1,0:-2] + s[-1,1:-1]*s[-1,2:] + s[-1,1:-1]*s[-2,1:-1] + s[-1,1:-1]*s[0,1:-1] ).sum()\n",
    "        \n",
    "        # Top-right corner\n",
    "        H += s[0,-1]*s[0,-2] + s[0,-1]*s[0,0] + s[0,-1]*s[-1,-1] + s[0,-1]*s[1,-1]\n",
    "        \n",
    "        # Bottom-right corner\n",
    "        H += s[-1,-1]*s[-1,-2] + s[-1,-1]*s[-1,0] + s[-1,-1]*s[-2,-1] + s[-1,-1]*s[0,-1]\n",
    "        \n",
    "        # Top-left corner\n",
    "        H += s[0,0]*s[0,-1] + s[0,0]*s[0,1] + s[0,0]*s[-1,0] + s[0,0]*s[1,0]\n",
    "        \n",
    "        # Bottom-left corner\n",
    "        H += s[-1,0]*s[-1,-1] + s[-1,0]*s[-1,1] + s[-1,0]*s[-2,0] + s[-1,0]*s[0,0]\n",
    "        \n",
    "        # Bugfix\n",
    "        H *= -0.5*J\n",
    "        \n",
    "        # External field term\n",
    "        H += -h*s.sum()\n",
    "        \n",
    "    else:\n",
    "        # To implement Non-PBC\n",
    "        pass\n",
    "    \n",
    "    return H"
   ]
  },
  {
   "cell_type": "markdown",
   "metadata": {},
   "source": [
    "Now, we implement the Metropolis algorithm using the calculation of the Hamiltonian above."
   ]
  },
  {
   "cell_type": "code",
   "execution_count": 9,
   "metadata": {},
   "outputs": [],
   "source": [
    "def Metropolis_Move_2D(spins, beta=1.0, J=1.0, h=0.0):\n",
    "    \"\"\"\n",
    "    Function that implements a single step of the Metropolis-Hastings.\n",
    "    \n",
    "    Parameters\n",
    "    ----------\n",
    "    spins : 2-D array of spins to be used a initial condition.\n",
    "    beta : Inverse of temperature 1/kT.\n",
    "    J : Interaction strength.\n",
    "    h : External field strength.\n",
    "    \n",
    "    Returns\n",
    "    -------\n",
    "    s_new : New configuration of spins after Metropolis-Hastings step.\n",
    "    \n",
    "    Example\n",
    "    -------\n",
    "    To perform a step of the Metropolis-Hastings algorithm using a 5x5 initial configuration of spins\n",
    "    with parameters kT=1.0, J=1.0 and h=0.0 we use this function as follows:\n",
    "    \n",
    "    Metropolis_Move_2D(spins=generate_spins(N=(5,5), dim=2, seed=0),\n",
    "                       beta=1.0,\n",
    "                       J=1.0,\n",
    "                       h=1.0\n",
    "                       )\n",
    "    \n",
    "    \"\"\"\n",
    "    \n",
    "    \n",
    "    # 1. Randomly chose a spin\n",
    "    ii = random.randint(low=0, \n",
    "                           high=spins.shape[0]\n",
    "                          )\n",
    "    \n",
    "    jj = random.randint(low=0, \n",
    "                           high=spins.shape[1]\n",
    "                          )\n",
    "    \n",
    "    # 2. Try flip\n",
    "    s_test = spins.copy() # Getting a copy is important!\n",
    "    s_test[ii,jj] = -s_test[ii,jj]\n",
    "    \n",
    "    # 3. Compute energies\n",
    "    # Initial energy\n",
    "    Ei = H_2DI(s=spins, J=J, h=h)\n",
    "    \n",
    "    # Final energy due to flip\n",
    "    Ef = H_2DI(s=s_test, J=J, h=h)\n",
    "    \n",
    "    # 4. Compare energies\n",
    "    DE = Ef - Ei \n",
    "    \n",
    "    # 5. Check condition\n",
    "    if (DE <= 0.0):\n",
    "        s_new = s_test.copy()\n",
    "    else:\n",
    "        random_number = random.uniform(low=0.0, high=1.0)\n",
    "            \n",
    "        Pacc = exp(-beta*DE)\n",
    "\n",
    "        # Check acceptance probability\n",
    "        if (random_number <= Pacc):\n",
    "            s_new = s_test.copy()\n",
    "        else:\n",
    "            s_new = spins.copy()\n",
    "            \n",
    "    return s_new"
   ]
  },
  {
   "cell_type": "markdown",
   "metadata": {},
   "source": [
    "The function below performs a Monte Carlo simulation of the 2-D Ising model of a system of spins `spins` for a number of iterations `IT`, with interaction strenght `J`, external field `h`, and inverse temperature ($\\beta=1/kT$) `beta`."
   ]
  },
  {
   "cell_type": "code",
   "execution_count": 10,
   "metadata": {},
   "outputs": [],
   "source": [
    "def Metropolis_Sim_2D_Ising(spins, J=1.0, h=0.0, beta=1.0, IT=100, plot=True):\n",
    "    \"\"\"\n",
    "    Function that performs a MC simulation of the 1-D Ising system using Metropolis-Hastings algorithm.\n",
    "    \n",
    "    Parameters\n",
    "    ----------\n",
    "    spins : 2-D array of spins to be used a initial condition.\n",
    "    beta : Inverse of temperature 1/kT.\n",
    "    J : Interaction strength.\n",
    "    h : External field strength.\n",
    "    IT : Number of steps/iterations of the Metropolis-Hastings algorithm.\n",
    "    plot : Boolean flag to indicate whether plots of time series are generated (True) or not (False).\n",
    "    \n",
    "    Returns\n",
    "    -------\n",
    "    spins : Final configuration of spins by the end of the simulation.\n",
    "    tseries : 2-D numpy array of shape (3,IT) containing simulation time tseries[0,:], energy per spin tseries[1,:]\n",
    "              and magnetization per spin tseries[2,:].\n",
    "    \"\"\"\n",
    "    \n",
    "    N = spins.size # Number of spins in simulation\n",
    "    tseries = zeros(shape=(3,IT), dtype=float)\n",
    "\n",
    "    # Metropolis MC simulation\n",
    "    for it in tqdm(range(IT), desc='Monte Carlo Iteration'):\n",
    "        spins = Metropolis_Move_2D(spins=spins,\n",
    "                                   beta=beta,\n",
    "                                   J=J,\n",
    "                                   h=h\n",
    "                                  )\n",
    "        # Optimize\n",
    "        tseries[1,it] = H_2DI(s=spins, J=J, h=h, PBC=True) # Energy\n",
    "        tseries[2,it] = abs( spins.sum() ) # Magnetization\n",
    "        \n",
    "    E = tseries[1,:]/float(N) # Energy per spin\n",
    "    M = tseries[2,:]/float(N) # Magnetization per spin\n",
    "    tseries[0,:] = arange(0,IT, dtype=float)/float(N)\n",
    "    \n",
    "    if plot:\n",
    "        # Quick plot of internal energy vs. time    \n",
    "        fig, axl = plt.subplots()\n",
    "\n",
    "        color = 'tab:red'\n",
    "        axl.set_xlabel(r'Time $t$ [MC steps per site]')\n",
    "        axl.set_ylabel(r'$\\mathcal{E}(t)$ [per site]', color=color)\n",
    "        axl.plot(tseries[0,:], E, color=color)\n",
    "        axl.tick_params(axis='y', labelcolor=color)\n",
    "\n",
    "        axr = axl.twinx()  # instantiate a second axes that shares the same x-axis\n",
    "\n",
    "        color = 'tab:blue'\n",
    "        axr.set_ylabel(r'$\\mathcal{M}(t)$ [per site]', color=color)\n",
    "        axr.plot(tseries[0,:], M, color=color)\n",
    "        axr.tick_params(axis='y', labelcolor=color)\n",
    "\n",
    "        #fig.tight_layout()  # otherwise the right y-label is slightly clipped\n",
    "        plt.show()\n",
    "    \n",
    "    return spins, tseries"
   ]
  },
  {
   "cell_type": "markdown",
   "metadata": {},
   "source": [
    "The function below computes the auto-correlation function of the time series returned by a simulation, this can be used to infer the correlation time as seen in previous clases."
   ]
  },
  {
   "cell_type": "code",
   "execution_count": 16,
   "metadata": {},
   "outputs": [],
   "source": [
    "def autocorrelationTime(tseries, semilog=False):\n",
    "    \"\"\"\n",
    "    Function to compute auto-correlation time.\n",
    "    \n",
    "    Parameters\n",
    "    ----------\n",
    "    tseries : tseries object returned by Metropolis_Sim_2D_Ising. See documentation of this function.\n",
    "    semilog : Boolean flag to indicate whether we use logarithmic scale in y-axis (True) or not (False).\n",
    "    \n",
    "    Returns\n",
    "    -------\n",
    "    chi : Numpy array with autocorrelation values along dim=1. chi[0,:] has the times, and chi[1:,:] the\n",
    "          autocorrelatin of each time series in tseries.\n",
    "    taus : Iterations corresponding to the autocorrelation times of each time series in tseries.\n",
    "    \n",
    "    \"\"\"\n",
    "    \n",
    "    # Maximum simulation time and corresponding index\n",
    "    tmax = tseries[0,-1]\n",
    "    imax = tseries.shape[1]\n",
    "    \n",
    "    chi = zeros_like(tseries, dtype=float)\n",
    "    for ii in tqdm(range(imax), desc='Time'):\n",
    "        chi[0,ii] = tseries[0,ii]\n",
    "        \n",
    "        # \"Time step\" in units of iterations\n",
    "        DT = float(imax - ii)\n",
    "        \n",
    "        offset = imax - ii\n",
    "        chi[1:,ii] = sum(tseries[1:,0:offset]*tseries[1:,-offset:], axis=1)/DT \\\n",
    "                     - tseries[1:,0:offset].sum(axis=1)*tseries[1:,-offset:].sum(axis=1)/DT**2\n",
    "    \n",
    "    # We normalize to initial value\n",
    "    for jj in arange(start=1, stop=tseries.shape[0]):\n",
    "        chi[jj,:] /= chi[jj,0]\n",
    "    \n",
    "    # We find first minimum value of the auto-correlation time for each time series\n",
    "    imin = abs(chi - 1.0/exp(1)).argmin(axis=1)\n",
    "    taus = imin[1:]\n",
    "\n",
    "    for jj in arange(start=1, stop=tseries.shape[0]):\n",
    "        print(\"Correlation time for time series: %3d | iteration: %8d\" % (jj,imin[jj]))\n",
    "    \n",
    "    fig = plt.figure()\n",
    "    for jj in arange(start=1, stop=tseries.shape[0]):\n",
    "        yAxis = linspace(start=0.0, stop=1.0, num=10)\n",
    "        tau = chi[0,imin[jj]]*ones_like(yAxis)\n",
    "        \n",
    "        if semilog:\n",
    "            plot = plt.semilogy(chi[0,:], chi[jj,:], label='Time series: ' + str(jj))\n",
    "            # Plot correlation time\n",
    "            plt.semilogy(tau, yAxis, color=plot[-1].get_color(), linestyle='dashed', label='Time series: ' + str(jj) + r' ($\\tau$)')\n",
    "        else:\n",
    "            plot = plt.plot(chi[0,:], chi[jj,:], label='Time series: ' + str(jj))\n",
    "            # Plot correlation time\n",
    "            plt.plot(tau, yAxis, color=plot[-1].get_color(), linestyle='dashed', label='Time series: ' + str(jj) + r' ($\\tau$)')\n",
    "            \n",
    "    plt.legend()\n",
    "    plt.xlabel(r'Time $t$ [Iterations]')\n",
    "    plt.ylabel(r'$\\chi(t)/\\chi(0)$')\n",
    "    plt.show()\n",
    "    \n",
    "    return chi, taus"
   ]
  },
  {
   "cell_type": "markdown",
   "metadata": {},
   "source": [
    "## Example: 2-D Ising model with PBC on a 10x10 grid - computation of observables\n",
    "\n",
    "In the example below, we simulate a 10x10 grid and compute the specific heat per spin $c$. A brief computation of the MC error in our computation of $c$ is performed as well."
   ]
  },
  {
   "cell_type": "code",
   "execution_count": 21,
   "metadata": {},
   "outputs": [
    {
     "data": {
      "text/plain": [
       "204.08163265306123"
      ]
     },
     "execution_count": 21,
     "metadata": {},
     "output_type": "execute_result"
    }
   ],
   "source": [
    "10000/49"
   ]
  },
  {
   "cell_type": "code",
   "execution_count": 88,
   "metadata": {},
   "outputs": [
    {
     "name": "stdout",
     "output_type": "stream",
     "text": [
      "Temperature: 1.90 | Beta: 0.53\n"
     ]
    },
    {
     "data": {
      "image/png": "[encoded data removed]",
      "text/plain": [
       "<Figure size 432x288 with 1 Axes>"
      ]
     },
     "metadata": {},
     "output_type": "display_data"
    },
    {
     "data": {
      "application/vnd.jupyter.widget-view+json": {
       "model_id": "a7012041131c470eb97a044ed276ccfb",
       "version_major": 2,
       "version_minor": 0
      },
      "text/plain": [
       "HBox(children=(FloatProgress(value=0.0, description='Monte Carlo Iteration', max=100000.0, style=ProgressStyle…"
      ]
     },
     "metadata": {},
     "output_type": "display_data"
    },
    {
     "name": "stdout",
     "output_type": "stream",
     "text": [
      "\n"
     ]
    },
    {
     "data": {
      "image/png": "[encoded data removed]",
      "text/plain": [
       "<Figure size 432x288 with 2 Axes>"
      ]
     },
     "metadata": {
      "needs_background": "light"
     },
     "output_type": "display_data"
    },
    {
     "data": {
      "image/png": "[encoded data removed]",
      "text/plain": [
       "<Figure size 432x288 with 1 Axes>"
      ]
     },
     "metadata": {},
     "output_type": "display_data"
    }
   ],
   "source": [
    "# Other params\n",
    "J = 1.0\n",
    "h = 0.0\n",
    "\n",
    "# Temperature\n",
    "#kT = 2.4*J\n",
    "kT = 1.9*J\n",
    "beta = 1.0/kT\n",
    "\n",
    "print('Temperature: %2.2f | Beta: %2.2f' % (kT, beta))\n",
    "\n",
    "# Number of iterations\n",
    "IT = 100000\n",
    "\n",
    "foo = generate_spins(N=(10,10), dim=2, seed=2)\n",
    "\n",
    "simple_visualization(spins=foo, grid=False, annotate=False)\n",
    "\n",
    "si,tseries = Metropolis_Sim_2D_Ising(spins=foo, \n",
    "                                     J=J, \n",
    "                                     h=h, \n",
    "                                     beta=beta, \n",
    "                                     IT=IT\n",
    "                                    )\n",
    "\n",
    "simple_visualization(spins=si, grid=False, annotate=False)"
   ]
  },
  {
   "cell_type": "markdown",
   "metadata": {},
   "source": [
    "We now need to infer the correlation time $\\tau$. This is done below.\n",
    "\n",
    "To accelerate the computation of the auto-correlation, we sub-sample the time series of our MMC simulation"
   ]
  },
  {
   "cell_type": "code",
   "execution_count": 89,
   "metadata": {},
   "outputs": [
    {
     "name": "stdout",
     "output_type": "stream",
     "text": [
      "Monte Carlo passes in simulaton:     1000\n"
     ]
    },
    {
     "data": {
      "application/vnd.jupyter.widget-view+json": {
       "model_id": "e23c99f53d494985ac9b2d0fcedbae12",
       "version_major": 2,
       "version_minor": 0
      },
      "text/plain": [
       "HBox(children=(FloatProgress(value=0.0, description='Passes', max=1000.0, style=ProgressStyle(description_widt…"
      ]
     },
     "metadata": {},
     "output_type": "display_data"
    },
    {
     "name": "stdout",
     "output_type": "stream",
     "text": [
      "\n"
     ]
    }
   ],
   "source": [
    "# Number of MC iterations that respresents a MC pass\n",
    "pass_iterations = si.size\n",
    "\n",
    "# Number of MC passes\n",
    "n_passes = int( tseries.shape[1]/pass_iterations )\n",
    "\n",
    "print(\"Monte Carlo passes in simulaton: %8d\" % n_passes)\n",
    "\n",
    "# Sub-sampling of original time series\n",
    "_tseries = zeros(shape=(tseries.shape[0],n_passes), dtype=float)\n",
    "\n",
    "for ii in tqdm(range(n_passes), desc='Passes'):\n",
    "    index = ii*pass_iterations\n",
    "    _tseries[:,ii] = tseries[:,index]"
   ]
  },
  {
   "cell_type": "code",
   "execution_count": 90,
   "metadata": {},
   "outputs": [
    {
     "data": {
      "application/vnd.jupyter.widget-view+json": {
       "model_id": "92e8b7ec85434980ab4983a854b64125",
       "version_major": 2,
       "version_minor": 0
      },
      "text/plain": [
       "HBox(children=(FloatProgress(value=0.0, description='Time', max=1000.0, style=ProgressStyle(description_width=…"
      ]
     },
     "metadata": {},
     "output_type": "display_data"
    },
    {
     "name": "stdout",
     "output_type": "stream",
     "text": [
      "\n",
      "Correlation time for time series:   1 | iteration:      797\n",
      "Correlation time for time series:   2 | iteration:        6\n"
     ]
    },
    {
     "data": {
      "image/png": "[encoded data removed]",
      "text/plain": [
       "<Figure size 432x288 with 1 Axes>"
      ]
     },
     "metadata": {
      "needs_background": "light"
     },
     "output_type": "display_data"
    }
   ],
   "source": [
    "chi,taus = autocorrelationTime(_tseries, semilog=False)"
   ]
  },
  {
   "cell_type": "markdown",
   "metadata": {},
   "source": [
    "## Obtaining curves of magnetization and specific heat\n",
    "\n",
    "In the cell below we compute the magnetization and specific heat using the blocking method, see Section 3.4.2 of *M.E.J. Newman & G.T. Barkema, Monte Carlo Methods in Statistical Physics, Clarendon Press, Oxford* for details.\n",
    "\n",
    "From the cells above, we infer that the auto-correlation time $\\tau$ occurs at about $\\sim$ 100 MC passes. We use that value as the `offset` in the cell below to get rid of the transient in our time series."
   ]
  },
  {
   "cell_type": "code",
   "execution_count": 95,
   "metadata": {},
   "outputs": [
    {
     "data": {
      "application/vnd.jupyter.widget-view+json": {
       "model_id": "1670f1d1add84440b158cc56e5d383ee",
       "version_major": 2,
       "version_minor": 0
      },
      "text/plain": [
       "HBox(children=(FloatProgress(value=0.0, description='Monte Carlo Iteration', max=50000.0, style=ProgressStyle(…"
      ]
     },
     "metadata": {},
     "output_type": "display_data"
    },
    {
     "name": "stdout",
     "output_type": "stream",
     "text": [
      "\n"
     ]
    },
    {
     "data": {
      "application/vnd.jupyter.widget-view+json": {
       "model_id": "c6f44a340c91421598b11c9e3ece564c",
       "version_major": 2,
       "version_minor": 0
      },
      "text/plain": [
       "HBox(children=(FloatProgress(value=0.0, description='Blocks', max=40.0, style=ProgressStyle(description_width=…"
      ]
     },
     "metadata": {},
     "output_type": "display_data"
    },
    {
     "name": "stdout",
     "output_type": "stream",
     "text": [
      "\n"
     ]
    },
    {
     "data": {
      "application/vnd.jupyter.widget-view+json": {
       "model_id": "a0689e752c3a406194ed31c2286404fa",
       "version_major": 2,
       "version_minor": 0
      },
      "text/plain": [
       "HBox(children=(FloatProgress(value=0.0, description='Monte Carlo Iteration', max=50000.0, style=ProgressStyle(…"
      ]
     },
     "metadata": {},
     "output_type": "display_data"
    },
    {
     "name": "stdout",
     "output_type": "stream",
     "text": [
      "\n"
     ]
    },
    {
     "data": {
      "application/vnd.jupyter.widget-view+json": {
       "model_id": "3b3ae8b2cf8e44cb8ecd8118621953b3",
       "version_major": 2,
       "version_minor": 0
      },
      "text/plain": [
       "HBox(children=(FloatProgress(value=0.0, description='Blocks', max=40.0, style=ProgressStyle(description_width=…"
      ]
     },
     "metadata": {},
     "output_type": "display_data"
    },
    {
     "name": "stdout",
     "output_type": "stream",
     "text": [
      "\n"
     ]
    },
    {
     "data": {
      "application/vnd.jupyter.widget-view+json": {
       "model_id": "fa3c932795fc4bb793415b045e460557",
       "version_major": 2,
       "version_minor": 0
      },
      "text/plain": [
       "HBox(children=(FloatProgress(value=0.0, description='Monte Carlo Iteration', max=50000.0, style=ProgressStyle(…"
      ]
     },
     "metadata": {},
     "output_type": "display_data"
    },
    {
     "name": "stdout",
     "output_type": "stream",
     "text": [
      "\n"
     ]
    },
    {
     "data": {
      "application/vnd.jupyter.widget-view+json": {
       "model_id": "30e8baf2d79142feb1d84a6717670252",
       "version_major": 2,
       "version_minor": 0
      },
      "text/plain": [
       "HBox(children=(FloatProgress(value=0.0, description='Blocks', max=40.0, style=ProgressStyle(description_width=…"
      ]
     },
     "metadata": {},
     "output_type": "display_data"
    },
    {
     "name": "stdout",
     "output_type": "stream",
     "text": [
      "\n"
     ]
    },
    {
     "data": {
      "application/vnd.jupyter.widget-view+json": {
       "model_id": "c4f44236c7cb46329d6f33f82b36cbaf",
       "version_major": 2,
       "version_minor": 0
      },
      "text/plain": [
       "HBox(children=(FloatProgress(value=0.0, description='Monte Carlo Iteration', max=50000.0, style=ProgressStyle(…"
      ]
     },
     "metadata": {},
     "output_type": "display_data"
    },
    {
     "name": "stdout",
     "output_type": "stream",
     "text": [
      "\n"
     ]
    },
    {
     "data": {
      "application/vnd.jupyter.widget-view+json": {
       "model_id": "9fef571ef9c94b418d66653c585a1783",
       "version_major": 2,
       "version_minor": 0
      },
      "text/plain": [
       "HBox(children=(FloatProgress(value=0.0, description='Blocks', max=40.0, style=ProgressStyle(description_width=…"
      ]
     },
     "metadata": {},
     "output_type": "display_data"
    },
    {
     "name": "stdout",
     "output_type": "stream",
     "text": [
      "\n"
     ]
    },
    {
     "data": {
      "application/vnd.jupyter.widget-view+json": {
       "model_id": "492b3645b55645c282f28934ac6ae2e4",
       "version_major": 2,
       "version_minor": 0
      },
      "text/plain": [
       "HBox(children=(FloatProgress(value=0.0, description='Monte Carlo Iteration', max=50000.0, style=ProgressStyle(…"
      ]
     },
     "metadata": {},
     "output_type": "display_data"
    },
    {
     "name": "stdout",
     "output_type": "stream",
     "text": [
      "\n"
     ]
    },
    {
     "data": {
      "application/vnd.jupyter.widget-view+json": {
       "model_id": "c18fc0ec56014644a43365734f6c9ff4",
       "version_major": 2,
       "version_minor": 0
      },
      "text/plain": [
       "HBox(children=(FloatProgress(value=0.0, description='Blocks', max=40.0, style=ProgressStyle(description_width=…"
      ]
     },
     "metadata": {},
     "output_type": "display_data"
    },
    {
     "name": "stdout",
     "output_type": "stream",
     "text": [
      "\n"
     ]
    },
    {
     "data": {
      "application/vnd.jupyter.widget-view+json": {
       "model_id": "23166e22b93e4a3db1fbe6ee40124911",
       "version_major": 2,
       "version_minor": 0
      },
      "text/plain": [
       "HBox(children=(FloatProgress(value=0.0, description='Monte Carlo Iteration', max=50000.0, style=ProgressStyle(…"
      ]
     },
     "metadata": {},
     "output_type": "display_data"
    },
    {
     "name": "stdout",
     "output_type": "stream",
     "text": [
      "\n"
     ]
    },
    {
     "data": {
      "application/vnd.jupyter.widget-view+json": {
       "model_id": "d975756c9ff44dca95b55a6745514eab",
       "version_major": 2,
       "version_minor": 0
      },
      "text/plain": [
       "HBox(children=(FloatProgress(value=0.0, description='Blocks', max=40.0, style=ProgressStyle(description_width=…"
      ]
     },
     "metadata": {},
     "output_type": "display_data"
    },
    {
     "name": "stdout",
     "output_type": "stream",
     "text": [
      "\n"
     ]
    },
    {
     "data": {
      "application/vnd.jupyter.widget-view+json": {
       "model_id": "5d11a9c5648941e0b6ff132a822efef6",
       "version_major": 2,
       "version_minor": 0
      },
      "text/plain": [
       "HBox(children=(FloatProgress(value=0.0, description='Monte Carlo Iteration', max=50000.0, style=ProgressStyle(…"
      ]
     },
     "metadata": {},
     "output_type": "display_data"
    },
    {
     "name": "stdout",
     "output_type": "stream",
     "text": [
      "\n"
     ]
    },
    {
     "data": {
      "application/vnd.jupyter.widget-view+json": {
       "model_id": "cde09cc2b61c48aeb063b37db73b5a57",
       "version_major": 2,
       "version_minor": 0
      },
      "text/plain": [
       "HBox(children=(FloatProgress(value=0.0, description='Blocks', max=40.0, style=ProgressStyle(description_width=…"
      ]
     },
     "metadata": {},
     "output_type": "display_data"
    },
    {
     "name": "stdout",
     "output_type": "stream",
     "text": [
      "\n"
     ]
    },
    {
     "data": {
      "application/vnd.jupyter.widget-view+json": {
       "model_id": "8bfa4b51e4a54f0aa17730ed102973d1",
       "version_major": 2,
       "version_minor": 0
      },
      "text/plain": [
       "HBox(children=(FloatProgress(value=0.0, description='Monte Carlo Iteration', max=50000.0, style=ProgressStyle(…"
      ]
     },
     "metadata": {},
     "output_type": "display_data"
    },
    {
     "name": "stdout",
     "output_type": "stream",
     "text": [
      "\n"
     ]
    },
    {
     "data": {
      "application/vnd.jupyter.widget-view+json": {
       "model_id": "023586590bfc414e9599bfcabf5e45cd",
       "version_major": 2,
       "version_minor": 0
      },
      "text/plain": [
       "HBox(children=(FloatProgress(value=0.0, description='Blocks', max=40.0, style=ProgressStyle(description_width=…"
      ]
     },
     "metadata": {},
     "output_type": "display_data"
    },
    {
     "name": "stdout",
     "output_type": "stream",
     "text": [
      "\n"
     ]
    },
    {
     "data": {
      "application/vnd.jupyter.widget-view+json": {
       "model_id": "4894df9617864641aff18643e4034fb1",
       "version_major": 2,
       "version_minor": 0
      },
      "text/plain": [
       "HBox(children=(FloatProgress(value=0.0, description='Monte Carlo Iteration', max=50000.0, style=ProgressStyle(…"
      ]
     },
     "metadata": {},
     "output_type": "display_data"
    },
    {
     "name": "stdout",
     "output_type": "stream",
     "text": [
      "\n"
     ]
    },
    {
     "data": {
      "application/vnd.jupyter.widget-view+json": {
       "model_id": "21efe07200ef46a3883ed953f3d756ae",
       "version_major": 2,
       "version_minor": 0
      },
      "text/plain": [
       "HBox(children=(FloatProgress(value=0.0, description='Blocks', max=40.0, style=ProgressStyle(description_width=…"
      ]
     },
     "metadata": {},
     "output_type": "display_data"
    },
    {
     "name": "stdout",
     "output_type": "stream",
     "text": [
      "\n"
     ]
    },
    {
     "data": {
      "application/vnd.jupyter.widget-view+json": {
       "model_id": "82dda8c2abc44854a754f01f02698314",
       "version_major": 2,
       "version_minor": 0
      },
      "text/plain": [
       "HBox(children=(FloatProgress(value=0.0, description='Monte Carlo Iteration', max=50000.0, style=ProgressStyle(…"
      ]
     },
     "metadata": {},
     "output_type": "display_data"
    },
    {
     "name": "stdout",
     "output_type": "stream",
     "text": [
      "\n"
     ]
    },
    {
     "data": {
      "application/vnd.jupyter.widget-view+json": {
       "model_id": "220b63868fb249f58dddc14c86bc0642",
       "version_major": 2,
       "version_minor": 0
      },
      "text/plain": [
       "HBox(children=(FloatProgress(value=0.0, description='Blocks', max=40.0, style=ProgressStyle(description_width=…"
      ]
     },
     "metadata": {},
     "output_type": "display_data"
    },
    {
     "name": "stdout",
     "output_type": "stream",
     "text": [
      "\n"
     ]
    },
    {
     "data": {
      "application/vnd.jupyter.widget-view+json": {
       "model_id": "5d7d9d7d4b7a4c45b0f7c7fbce3e1644",
       "version_major": 2,
       "version_minor": 0
      },
      "text/plain": [
       "HBox(children=(FloatProgress(value=0.0, description='Monte Carlo Iteration', max=50000.0, style=ProgressStyle(…"
      ]
     },
     "metadata": {},
     "output_type": "display_data"
    },
    {
     "name": "stdout",
     "output_type": "stream",
     "text": [
      "\n"
     ]
    },
    {
     "data": {
      "application/vnd.jupyter.widget-view+json": {
       "model_id": "97d44edad7c247e483e700e175f2503e",
       "version_major": 2,
       "version_minor": 0
      },
      "text/plain": [
       "HBox(children=(FloatProgress(value=0.0, description='Blocks', max=40.0, style=ProgressStyle(description_width=…"
      ]
     },
     "metadata": {},
     "output_type": "display_data"
    },
    {
     "name": "stdout",
     "output_type": "stream",
     "text": [
      "\n"
     ]
    },
    {
     "data": {
      "application/vnd.jupyter.widget-view+json": {
       "model_id": "148d53d8da2e48cd839c5ab3657ecf5e",
       "version_major": 2,
       "version_minor": 0
      },
      "text/plain": [
       "HBox(children=(FloatProgress(value=0.0, description='Monte Carlo Iteration', max=50000.0, style=ProgressStyle(…"
      ]
     },
     "metadata": {},
     "output_type": "display_data"
    },
    {
     "name": "stdout",
     "output_type": "stream",
     "text": [
      "\n"
     ]
    },
    {
     "data": {
      "application/vnd.jupyter.widget-view+json": {
       "model_id": "9cfd90fd66a04558afe3c018b1758fd4",
       "version_major": 2,
       "version_minor": 0
      },
      "text/plain": [
       "HBox(children=(FloatProgress(value=0.0, description='Blocks', max=40.0, style=ProgressStyle(description_width=…"
      ]
     },
     "metadata": {},
     "output_type": "display_data"
    },
    {
     "name": "stdout",
     "output_type": "stream",
     "text": [
      "\n"
     ]
    },
    {
     "data": {
      "application/vnd.jupyter.widget-view+json": {
       "model_id": "c4568c8032364447b84fa969834182a5",
       "version_major": 2,
       "version_minor": 0
      },
      "text/plain": [
       "HBox(children=(FloatProgress(value=0.0, description='Monte Carlo Iteration', max=50000.0, style=ProgressStyle(…"
      ]
     },
     "metadata": {},
     "output_type": "display_data"
    },
    {
     "name": "stdout",
     "output_type": "stream",
     "text": [
      "\n"
     ]
    },
    {
     "data": {
      "application/vnd.jupyter.widget-view+json": {
       "model_id": "63158d6ce8f549f6b8764e502812641f",
       "version_major": 2,
       "version_minor": 0
      },
      "text/plain": [
       "HBox(children=(FloatProgress(value=0.0, description='Blocks', max=40.0, style=ProgressStyle(description_width=…"
      ]
     },
     "metadata": {},
     "output_type": "display_data"
    },
    {
     "name": "stdout",
     "output_type": "stream",
     "text": [
      "\n"
     ]
    },
    {
     "data": {
      "application/vnd.jupyter.widget-view+json": {
       "model_id": "bd1d955da0ce48a690421cfe76a94b76",
       "version_major": 2,
       "version_minor": 0
      },
      "text/plain": [
       "HBox(children=(FloatProgress(value=0.0, description='Monte Carlo Iteration', max=50000.0, style=ProgressStyle(…"
      ]
     },
     "metadata": {},
     "output_type": "display_data"
    },
    {
     "name": "stdout",
     "output_type": "stream",
     "text": [
      "\n"
     ]
    },
    {
     "data": {
      "application/vnd.jupyter.widget-view+json": {
       "model_id": "7dd78ddd8e924e0e97e713375e039a63",
       "version_major": 2,
       "version_minor": 0
      },
      "text/plain": [
       "HBox(children=(FloatProgress(value=0.0, description='Blocks', max=40.0, style=ProgressStyle(description_width=…"
      ]
     },
     "metadata": {},
     "output_type": "display_data"
    },
    {
     "name": "stdout",
     "output_type": "stream",
     "text": [
      "\n"
     ]
    },
    {
     "data": {
      "application/vnd.jupyter.widget-view+json": {
       "model_id": "4c8347b742e649a0896663f2ac624a45",
       "version_major": 2,
       "version_minor": 0
      },
      "text/plain": [
       "HBox(children=(FloatProgress(value=0.0, description='Monte Carlo Iteration', max=50000.0, style=ProgressStyle(…"
      ]
     },
     "metadata": {},
     "output_type": "display_data"
    },
    {
     "name": "stdout",
     "output_type": "stream",
     "text": [
      "\n"
     ]
    },
    {
     "data": {
      "application/vnd.jupyter.widget-view+json": {
       "model_id": "1bdf4ef13e664cc8ade30183682e68d8",
       "version_major": 2,
       "version_minor": 0
      },
      "text/plain": [
       "HBox(children=(FloatProgress(value=0.0, description='Blocks', max=40.0, style=ProgressStyle(description_width=…"
      ]
     },
     "metadata": {},
     "output_type": "display_data"
    },
    {
     "name": "stdout",
     "output_type": "stream",
     "text": [
      "\n"
     ]
    },
    {
     "data": {
      "application/vnd.jupyter.widget-view+json": {
       "model_id": "2ee5914427dc4967bb0838fc47f04770",
       "version_major": 2,
       "version_minor": 0
      },
      "text/plain": [
       "HBox(children=(FloatProgress(value=0.0, description='Monte Carlo Iteration', max=50000.0, style=ProgressStyle(…"
      ]
     },
     "metadata": {},
     "output_type": "display_data"
    },
    {
     "name": "stdout",
     "output_type": "stream",
     "text": [
      "\n"
     ]
    },
    {
     "data": {
      "application/vnd.jupyter.widget-view+json": {
       "model_id": "ca99872e8e8f4bcf93f86e7d7709b240",
       "version_major": 2,
       "version_minor": 0
      },
      "text/plain": [
       "HBox(children=(FloatProgress(value=0.0, description='Blocks', max=40.0, style=ProgressStyle(description_width=…"
      ]
     },
     "metadata": {},
     "output_type": "display_data"
    },
    {
     "name": "stdout",
     "output_type": "stream",
     "text": [
      "\n"
     ]
    },
    {
     "data": {
      "application/vnd.jupyter.widget-view+json": {
       "model_id": "1f5fb018c036479897f7ae359d9cc008",
       "version_major": 2,
       "version_minor": 0
      },
      "text/plain": [
       "HBox(children=(FloatProgress(value=0.0, description='Monte Carlo Iteration', max=50000.0, style=ProgressStyle(…"
      ]
     },
     "metadata": {},
     "output_type": "display_data"
    },
    {
     "name": "stdout",
     "output_type": "stream",
     "text": [
      "\n"
     ]
    },
    {
     "data": {
      "application/vnd.jupyter.widget-view+json": {
       "model_id": "e0cdbbbd290c4003bb93f4b065ae92c1",
       "version_major": 2,
       "version_minor": 0
      },
      "text/plain": [
       "HBox(children=(FloatProgress(value=0.0, description='Blocks', max=40.0, style=ProgressStyle(description_width=…"
      ]
     },
     "metadata": {},
     "output_type": "display_data"
    },
    {
     "name": "stdout",
     "output_type": "stream",
     "text": [
      "\n"
     ]
    },
    {
     "data": {
      "application/vnd.jupyter.widget-view+json": {
       "model_id": "85b73d5487bb476ab9aaab6a46087b92",
       "version_major": 2,
       "version_minor": 0
      },
      "text/plain": [
       "HBox(children=(FloatProgress(value=0.0, description='Monte Carlo Iteration', max=50000.0, style=ProgressStyle(…"
      ]
     },
     "metadata": {},
     "output_type": "display_data"
    },
    {
     "name": "stdout",
     "output_type": "stream",
     "text": [
      "\n"
     ]
    },
    {
     "data": {
      "application/vnd.jupyter.widget-view+json": {
       "model_id": "0eb407f32f0744bc8fb12fb3e5e2b25a",
       "version_major": 2,
       "version_minor": 0
      },
      "text/plain": [
       "HBox(children=(FloatProgress(value=0.0, description='Blocks', max=40.0, style=ProgressStyle(description_width=…"
      ]
     },
     "metadata": {},
     "output_type": "display_data"
    },
    {
     "name": "stdout",
     "output_type": "stream",
     "text": [
      "\n"
     ]
    },
    {
     "data": {
      "application/vnd.jupyter.widget-view+json": {
       "model_id": "03dd75e220264a7daa580bdbcc9b5244",
       "version_major": 2,
       "version_minor": 0
      },
      "text/plain": [
       "HBox(children=(FloatProgress(value=0.0, description='Monte Carlo Iteration', max=50000.0, style=ProgressStyle(…"
      ]
     },
     "metadata": {},
     "output_type": "display_data"
    },
    {
     "name": "stdout",
     "output_type": "stream",
     "text": [
      "\n"
     ]
    },
    {
     "data": {
      "application/vnd.jupyter.widget-view+json": {
       "model_id": "ff449b797c914ae6a6ab8e016a45ed1d",
       "version_major": 2,
       "version_minor": 0
      },
      "text/plain": [
       "HBox(children=(FloatProgress(value=0.0, description='Blocks', max=40.0, style=ProgressStyle(description_width=…"
      ]
     },
     "metadata": {},
     "output_type": "display_data"
    },
    {
     "name": "stdout",
     "output_type": "stream",
     "text": [
      "\n"
     ]
    },
    {
     "data": {
      "application/vnd.jupyter.widget-view+json": {
       "model_id": "bc7d852e3bca46ee9cb9d577f0d338cf",
       "version_major": 2,
       "version_minor": 0
      },
      "text/plain": [
       "HBox(children=(FloatProgress(value=0.0, description='Monte Carlo Iteration', max=50000.0, style=ProgressStyle(…"
      ]
     },
     "metadata": {},
     "output_type": "display_data"
    },
    {
     "name": "stdout",
     "output_type": "stream",
     "text": [
      "\n"
     ]
    },
    {
     "data": {
      "application/vnd.jupyter.widget-view+json": {
       "model_id": "b2f3782580c243cdb203512429b869e2",
       "version_major": 2,
       "version_minor": 0
      },
      "text/plain": [
       "HBox(children=(FloatProgress(value=0.0, description='Blocks', max=40.0, style=ProgressStyle(description_width=…"
      ]
     },
     "metadata": {},
     "output_type": "display_data"
    },
    {
     "name": "stdout",
     "output_type": "stream",
     "text": [
      "\n"
     ]
    },
    {
     "data": {
      "application/vnd.jupyter.widget-view+json": {
       "model_id": "d6c450c41e4a4ed4ae4875f88dab1fa3",
       "version_major": 2,
       "version_minor": 0
      },
      "text/plain": [
       "HBox(children=(FloatProgress(value=0.0, description='Monte Carlo Iteration', max=50000.0, style=ProgressStyle(…"
      ]
     },
     "metadata": {},
     "output_type": "display_data"
    },
    {
     "name": "stdout",
     "output_type": "stream",
     "text": [
      "\n"
     ]
    },
    {
     "data": {
      "application/vnd.jupyter.widget-view+json": {
       "model_id": "1dcabc8858f3466b9485034fd9f6b8f1",
       "version_major": 2,
       "version_minor": 0
      },
      "text/plain": [
       "HBox(children=(FloatProgress(value=0.0, description='Blocks', max=40.0, style=ProgressStyle(description_width=…"
      ]
     },
     "metadata": {},
     "output_type": "display_data"
    },
    {
     "name": "stdout",
     "output_type": "stream",
     "text": [
      "\n"
     ]
    },
    {
     "data": {
      "application/vnd.jupyter.widget-view+json": {
       "model_id": "fd62665dc7864acba6dc0d003ceed747",
       "version_major": 2,
       "version_minor": 0
      },
      "text/plain": [
       "HBox(children=(FloatProgress(value=0.0, description='Monte Carlo Iteration', max=50000.0, style=ProgressStyle(…"
      ]
     },
     "metadata": {},
     "output_type": "display_data"
    },
    {
     "name": "stdout",
     "output_type": "stream",
     "text": [
      "\n"
     ]
    },
    {
     "data": {
      "application/vnd.jupyter.widget-view+json": {
       "model_id": "d7e888d5c4964f8b8e932a2a0c9bfe07",
       "version_major": 2,
       "version_minor": 0
      },
      "text/plain": [
       "HBox(children=(FloatProgress(value=0.0, description='Blocks', max=40.0, style=ProgressStyle(description_width=…"
      ]
     },
     "metadata": {},
     "output_type": "display_data"
    },
    {
     "name": "stdout",
     "output_type": "stream",
     "text": [
      "\n"
     ]
    },
    {
     "data": {
      "application/vnd.jupyter.widget-view+json": {
       "model_id": "25f301ba1150485982bb824614e2d476",
       "version_major": 2,
       "version_minor": 0
      },
      "text/plain": [
       "HBox(children=(FloatProgress(value=0.0, description='Monte Carlo Iteration', max=50000.0, style=ProgressStyle(…"
      ]
     },
     "metadata": {},
     "output_type": "display_data"
    },
    {
     "name": "stdout",
     "output_type": "stream",
     "text": [
      "\n"
     ]
    },
    {
     "data": {
      "application/vnd.jupyter.widget-view+json": {
       "model_id": "4371f32b4639484a8deaecaf79e6af47",
       "version_major": 2,
       "version_minor": 0
      },
      "text/plain": [
       "HBox(children=(FloatProgress(value=0.0, description='Blocks', max=40.0, style=ProgressStyle(description_width=…"
      ]
     },
     "metadata": {},
     "output_type": "display_data"
    },
    {
     "name": "stdout",
     "output_type": "stream",
     "text": [
      "\n"
     ]
    },
    {
     "data": {
      "application/vnd.jupyter.widget-view+json": {
       "model_id": "8033a3c43075449cbecba326fb935d6c",
       "version_major": 2,
       "version_minor": 0
      },
      "text/plain": [
       "HBox(children=(FloatProgress(value=0.0, description='Monte Carlo Iteration', max=50000.0, style=ProgressStyle(…"
      ]
     },
     "metadata": {},
     "output_type": "display_data"
    },
    {
     "name": "stdout",
     "output_type": "stream",
     "text": [
      "\n"
     ]
    },
    {
     "data": {
      "application/vnd.jupyter.widget-view+json": {
       "model_id": "ea9f31a6aa3247fc96dca47722b0b822",
       "version_major": 2,
       "version_minor": 0
      },
      "text/plain": [
       "HBox(children=(FloatProgress(value=0.0, description='Blocks', max=40.0, style=ProgressStyle(description_width=…"
      ]
     },
     "metadata": {},
     "output_type": "display_data"
    },
    {
     "name": "stdout",
     "output_type": "stream",
     "text": [
      "\n"
     ]
    },
    {
     "data": {
      "application/vnd.jupyter.widget-view+json": {
       "model_id": "a5c1dd95638244a0933fb31053d70b54",
       "version_major": 2,
       "version_minor": 0
      },
      "text/plain": [
       "HBox(children=(FloatProgress(value=0.0, description='Monte Carlo Iteration', max=50000.0, style=ProgressStyle(…"
      ]
     },
     "metadata": {},
     "output_type": "display_data"
    },
    {
     "name": "stdout",
     "output_type": "stream",
     "text": [
      "\n"
     ]
    },
    {
     "data": {
      "application/vnd.jupyter.widget-view+json": {
       "model_id": "722ab27900ab46ed8956fc91fb8f8b80",
       "version_major": 2,
       "version_minor": 0
      },
      "text/plain": [
       "HBox(children=(FloatProgress(value=0.0, description='Blocks', max=40.0, style=ProgressStyle(description_width=…"
      ]
     },
     "metadata": {},
     "output_type": "display_data"
    },
    {
     "name": "stdout",
     "output_type": "stream",
     "text": [
      "\n"
     ]
    },
    {
     "data": {
      "application/vnd.jupyter.widget-view+json": {
       "model_id": "b0a109a3f0964f059c4bd33503dc40df",
       "version_major": 2,
       "version_minor": 0
      },
      "text/plain": [
       "HBox(children=(FloatProgress(value=0.0, description='Monte Carlo Iteration', max=50000.0, style=ProgressStyle(…"
      ]
     },
     "metadata": {},
     "output_type": "display_data"
    },
    {
     "name": "stdout",
     "output_type": "stream",
     "text": [
      "\n"
     ]
    },
    {
     "data": {
      "application/vnd.jupyter.widget-view+json": {
       "model_id": "9ff08c0ebf244d7e803135a15f10a980",
       "version_major": 2,
       "version_minor": 0
      },
      "text/plain": [
       "HBox(children=(FloatProgress(value=0.0, description='Blocks', max=40.0, style=ProgressStyle(description_width=…"
      ]
     },
     "metadata": {},
     "output_type": "display_data"
    },
    {
     "name": "stdout",
     "output_type": "stream",
     "text": [
      "\n"
     ]
    },
    {
     "data": {
      "application/vnd.jupyter.widget-view+json": {
       "model_id": "6c1a5f2a033642b9add55ea01702d2b5",
       "version_major": 2,
       "version_minor": 0
      },
      "text/plain": [
       "HBox(children=(FloatProgress(value=0.0, description='Monte Carlo Iteration', max=50000.0, style=ProgressStyle(…"
      ]
     },
     "metadata": {},
     "output_type": "display_data"
    },
    {
     "name": "stdout",
     "output_type": "stream",
     "text": [
      "\n"
     ]
    },
    {
     "data": {
      "application/vnd.jupyter.widget-view+json": {
       "model_id": "8e915c634009493d9404f8117ac319b3",
       "version_major": 2,
       "version_minor": 0
      },
      "text/plain": [
       "HBox(children=(FloatProgress(value=0.0, description='Blocks', max=40.0, style=ProgressStyle(description_width=…"
      ]
     },
     "metadata": {},
     "output_type": "display_data"
    },
    {
     "name": "stdout",
     "output_type": "stream",
     "text": [
      "\n"
     ]
    },
    {
     "data": {
      "application/vnd.jupyter.widget-view+json": {
       "model_id": "b969437b3c96455692a92cbed1354f05",
       "version_major": 2,
       "version_minor": 0
      },
      "text/plain": [
       "HBox(children=(FloatProgress(value=0.0, description='Monte Carlo Iteration', max=50000.0, style=ProgressStyle(…"
      ]
     },
     "metadata": {},
     "output_type": "display_data"
    },
    {
     "name": "stdout",
     "output_type": "stream",
     "text": [
      "\n"
     ]
    },
    {
     "data": {
      "application/vnd.jupyter.widget-view+json": {
       "model_id": "c37fc193f60542b8b3426d96560f1df1",
       "version_major": 2,
       "version_minor": 0
      },
      "text/plain": [
       "HBox(children=(FloatProgress(value=0.0, description='Blocks', max=40.0, style=ProgressStyle(description_width=…"
      ]
     },
     "metadata": {},
     "output_type": "display_data"
    },
    {
     "name": "stdout",
     "output_type": "stream",
     "text": [
      "\n"
     ]
    },
    {
     "data": {
      "application/vnd.jupyter.widget-view+json": {
       "model_id": "3a08ef4232284a30800da7e0aa41a8f2",
       "version_major": 2,
       "version_minor": 0
      },
      "text/plain": [
       "HBox(children=(FloatProgress(value=0.0, description='Monte Carlo Iteration', max=50000.0, style=ProgressStyle(…"
      ]
     },
     "metadata": {},
     "output_type": "display_data"
    },
    {
     "name": "stdout",
     "output_type": "stream",
     "text": [
      "\n"
     ]
    },
    {
     "data": {
      "application/vnd.jupyter.widget-view+json": {
       "model_id": "c7b0cef527c74c1cb192b0ec1ec08aea",
       "version_major": 2,
       "version_minor": 0
      },
      "text/plain": [
       "HBox(children=(FloatProgress(value=0.0, description='Blocks', max=40.0, style=ProgressStyle(description_width=…"
      ]
     },
     "metadata": {},
     "output_type": "display_data"
    },
    {
     "name": "stdout",
     "output_type": "stream",
     "text": [
      "\n"
     ]
    },
    {
     "data": {
      "application/vnd.jupyter.widget-view+json": {
       "model_id": "693e4ac0c1204f80833819efb975d22b",
       "version_major": 2,
       "version_minor": 0
      },
      "text/plain": [
       "HBox(children=(FloatProgress(value=0.0, description='Monte Carlo Iteration', max=50000.0, style=ProgressStyle(…"
      ]
     },
     "metadata": {},
     "output_type": "display_data"
    },
    {
     "name": "stdout",
     "output_type": "stream",
     "text": [
      "\n"
     ]
    },
    {
     "data": {
      "application/vnd.jupyter.widget-view+json": {
       "model_id": "22e1c80e10b04554aee8d0bce7c072aa",
       "version_major": 2,
       "version_minor": 0
      },
      "text/plain": [
       "HBox(children=(FloatProgress(value=0.0, description='Blocks', max=40.0, style=ProgressStyle(description_width=…"
      ]
     },
     "metadata": {},
     "output_type": "display_data"
    },
    {
     "name": "stdout",
     "output_type": "stream",
     "text": [
      "\n"
     ]
    },
    {
     "data": {
      "application/vnd.jupyter.widget-view+json": {
       "model_id": "fd3f8df3627b443ea4281ad62d06c173",
       "version_major": 2,
       "version_minor": 0
      },
      "text/plain": [
       "HBox(children=(FloatProgress(value=0.0, description='Monte Carlo Iteration', max=50000.0, style=ProgressStyle(…"
      ]
     },
     "metadata": {},
     "output_type": "display_data"
    },
    {
     "name": "stdout",
     "output_type": "stream",
     "text": [
      "\n"
     ]
    },
    {
     "data": {
      "application/vnd.jupyter.widget-view+json": {
       "model_id": "6e5ecf83d8a04fb18124e40bdd959702",
       "version_major": 2,
       "version_minor": 0
      },
      "text/plain": [
       "HBox(children=(FloatProgress(value=0.0, description='Blocks', max=40.0, style=ProgressStyle(description_width=…"
      ]
     },
     "metadata": {},
     "output_type": "display_data"
    },
    {
     "name": "stdout",
     "output_type": "stream",
     "text": [
      "\n"
     ]
    },
    {
     "data": {
      "application/vnd.jupyter.widget-view+json": {
       "model_id": "3b371cba80724dcebe95008b7a799f59",
       "version_major": 2,
       "version_minor": 0
      },
      "text/plain": [
       "HBox(children=(FloatProgress(value=0.0, description='Monte Carlo Iteration', max=50000.0, style=ProgressStyle(…"
      ]
     },
     "metadata": {},
     "output_type": "display_data"
    },
    {
     "name": "stdout",
     "output_type": "stream",
     "text": [
      "\n"
     ]
    },
    {
     "data": {
      "application/vnd.jupyter.widget-view+json": {
       "model_id": "0e5227f83443433aa356502554065e5c",
       "version_major": 2,
       "version_minor": 0
      },
      "text/plain": [
       "HBox(children=(FloatProgress(value=0.0, description='Blocks', max=40.0, style=ProgressStyle(description_width=…"
      ]
     },
     "metadata": {},
     "output_type": "display_data"
    },
    {
     "name": "stdout",
     "output_type": "stream",
     "text": [
      "\n"
     ]
    },
    {
     "data": {
      "application/vnd.jupyter.widget-view+json": {
       "model_id": "0d2fef8f023143fbbc6a21b25eaa083a",
       "version_major": 2,
       "version_minor": 0
      },
      "text/plain": [
       "HBox(children=(FloatProgress(value=0.0, description='Monte Carlo Iteration', max=50000.0, style=ProgressStyle(…"
      ]
     },
     "metadata": {},
     "output_type": "display_data"
    },
    {
     "name": "stdout",
     "output_type": "stream",
     "text": [
      "\n"
     ]
    },
    {
     "data": {
      "application/vnd.jupyter.widget-view+json": {
       "model_id": "2fe92c2d7e9144f7885f4904df6e711b",
       "version_major": 2,
       "version_minor": 0
      },
      "text/plain": [
       "HBox(children=(FloatProgress(value=0.0, description='Blocks', max=40.0, style=ProgressStyle(description_width=…"
      ]
     },
     "metadata": {},
     "output_type": "display_data"
    },
    {
     "name": "stdout",
     "output_type": "stream",
     "text": [
      "\n"
     ]
    },
    {
     "data": {
      "application/vnd.jupyter.widget-view+json": {
       "model_id": "fb8f45f4e33e4295a26d0c4c24220b57",
       "version_major": 2,
       "version_minor": 0
      },
      "text/plain": [
       "HBox(children=(FloatProgress(value=0.0, description='Monte Carlo Iteration', max=50000.0, style=ProgressStyle(…"
      ]
     },
     "metadata": {},
     "output_type": "display_data"
    },
    {
     "name": "stdout",
     "output_type": "stream",
     "text": [
      "\n"
     ]
    },
    {
     "data": {
      "application/vnd.jupyter.widget-view+json": {
       "model_id": "ef49b7315474445ebb281531d2be0f2b",
       "version_major": 2,
       "version_minor": 0
      },
      "text/plain": [
       "HBox(children=(FloatProgress(value=0.0, description='Blocks', max=40.0, style=ProgressStyle(description_width=…"
      ]
     },
     "metadata": {},
     "output_type": "display_data"
    },
    {
     "name": "stdout",
     "output_type": "stream",
     "text": [
      "\n"
     ]
    },
    {
     "data": {
      "application/vnd.jupyter.widget-view+json": {
       "model_id": "d4587ab049fb4385b18aa8510ce243a6",
       "version_major": 2,
       "version_minor": 0
      },
      "text/plain": [
       "HBox(children=(FloatProgress(value=0.0, description='Monte Carlo Iteration', max=50000.0, style=ProgressStyle(…"
      ]
     },
     "metadata": {},
     "output_type": "display_data"
    },
    {
     "name": "stdout",
     "output_type": "stream",
     "text": [
      "\n"
     ]
    },
    {
     "data": {
      "application/vnd.jupyter.widget-view+json": {
       "model_id": "ef7a1474356b4c7483328874ab75f905",
       "version_major": 2,
       "version_minor": 0
      },
      "text/plain": [
       "HBox(children=(FloatProgress(value=0.0, description='Blocks', max=40.0, style=ProgressStyle(description_width=…"
      ]
     },
     "metadata": {},
     "output_type": "display_data"
    },
    {
     "name": "stdout",
     "output_type": "stream",
     "text": [
      "\n"
     ]
    },
    {
     "data": {
      "application/vnd.jupyter.widget-view+json": {
       "model_id": "6946bfc6560e436f89d769f7a5a2ebd1",
       "version_major": 2,
       "version_minor": 0
      },
      "text/plain": [
       "HBox(children=(FloatProgress(value=0.0, description='Monte Carlo Iteration', max=50000.0, style=ProgressStyle(…"
      ]
     },
     "metadata": {},
     "output_type": "display_data"
    },
    {
     "name": "stdout",
     "output_type": "stream",
     "text": [
      "\n"
     ]
    },
    {
     "data": {
      "application/vnd.jupyter.widget-view+json": {
       "model_id": "25149b1577db4709bf03245fb7b48753",
       "version_major": 2,
       "version_minor": 0
      },
      "text/plain": [
       "HBox(children=(FloatProgress(value=0.0, description='Blocks', max=40.0, style=ProgressStyle(description_width=…"
      ]
     },
     "metadata": {},
     "output_type": "display_data"
    },
    {
     "name": "stdout",
     "output_type": "stream",
     "text": [
      "\n"
     ]
    },
    {
     "data": {
      "application/vnd.jupyter.widget-view+json": {
       "model_id": "d57bb715807d4437b3e37d1cd31f078d",
       "version_major": 2,
       "version_minor": 0
      },
      "text/plain": [
       "HBox(children=(FloatProgress(value=0.0, description='Monte Carlo Iteration', max=50000.0, style=ProgressStyle(…"
      ]
     },
     "metadata": {},
     "output_type": "display_data"
    },
    {
     "name": "stdout",
     "output_type": "stream",
     "text": [
      "\n"
     ]
    },
    {
     "data": {
      "application/vnd.jupyter.widget-view+json": {
       "model_id": "232f7a3f7cf24bb0a3824e0fc4d7af85",
       "version_major": 2,
       "version_minor": 0
      },
      "text/plain": [
       "HBox(children=(FloatProgress(value=0.0, description='Blocks', max=40.0, style=ProgressStyle(description_width=…"
      ]
     },
     "metadata": {},
     "output_type": "display_data"
    },
    {
     "name": "stdout",
     "output_type": "stream",
     "text": [
      "\n"
     ]
    },
    {
     "data": {
      "application/vnd.jupyter.widget-view+json": {
       "model_id": "7f8e906190c040e497e40cde5a6eff41",
       "version_major": 2,
       "version_minor": 0
      },
      "text/plain": [
       "HBox(children=(FloatProgress(value=0.0, description='Monte Carlo Iteration', max=50000.0, style=ProgressStyle(…"
      ]
     },
     "metadata": {},
     "output_type": "display_data"
    },
    {
     "name": "stdout",
     "output_type": "stream",
     "text": [
      "\n"
     ]
    },
    {
     "data": {
      "application/vnd.jupyter.widget-view+json": {
       "model_id": "f22bf230d486467c8c96bc860a0ff560",
       "version_major": 2,
       "version_minor": 0
      },
      "text/plain": [
       "HBox(children=(FloatProgress(value=0.0, description='Blocks', max=40.0, style=ProgressStyle(description_width=…"
      ]
     },
     "metadata": {},
     "output_type": "display_data"
    },
    {
     "name": "stdout",
     "output_type": "stream",
     "text": [
      "\n"
     ]
    },
    {
     "data": {
      "application/vnd.jupyter.widget-view+json": {
       "model_id": "e45a5b3e4931417591f5c69cc083e8b9",
       "version_major": 2,
       "version_minor": 0
      },
      "text/plain": [
       "HBox(children=(FloatProgress(value=0.0, description='Monte Carlo Iteration', max=50000.0, style=ProgressStyle(…"
      ]
     },
     "metadata": {},
     "output_type": "display_data"
    },
    {
     "name": "stdout",
     "output_type": "stream",
     "text": [
      "\n"
     ]
    },
    {
     "data": {
      "application/vnd.jupyter.widget-view+json": {
       "model_id": "e44b0428ced7485f928690408f83a9f5",
       "version_major": 2,
       "version_minor": 0
      },
      "text/plain": [
       "HBox(children=(FloatProgress(value=0.0, description='Blocks', max=40.0, style=ProgressStyle(description_width=…"
      ]
     },
     "metadata": {},
     "output_type": "display_data"
    },
    {
     "name": "stdout",
     "output_type": "stream",
     "text": [
      "\n"
     ]
    },
    {
     "data": {
      "application/vnd.jupyter.widget-view+json": {
       "model_id": "b00b5d216d4b417a87f4d6694e1b3ad4",
       "version_major": 2,
       "version_minor": 0
      },
      "text/plain": [
       "HBox(children=(FloatProgress(value=0.0, description='Monte Carlo Iteration', max=50000.0, style=ProgressStyle(…"
      ]
     },
     "metadata": {},
     "output_type": "display_data"
    },
    {
     "name": "stdout",
     "output_type": "stream",
     "text": [
      "\n"
     ]
    },
    {
     "data": {
      "application/vnd.jupyter.widget-view+json": {
       "model_id": "84a82a0af18b4a9c94fb291c1f7bb1d3",
       "version_major": 2,
       "version_minor": 0
      },
      "text/plain": [
       "HBox(children=(FloatProgress(value=0.0, description='Blocks', max=40.0, style=ProgressStyle(description_width=…"
      ]
     },
     "metadata": {},
     "output_type": "display_data"
    },
    {
     "name": "stdout",
     "output_type": "stream",
     "text": [
      "\n"
     ]
    },
    {
     "data": {
      "application/vnd.jupyter.widget-view+json": {
       "model_id": "769049f865cf450bbd76684c085400ce",
       "version_major": 2,
       "version_minor": 0
      },
      "text/plain": [
       "HBox(children=(FloatProgress(value=0.0, description='Monte Carlo Iteration', max=50000.0, style=ProgressStyle(…"
      ]
     },
     "metadata": {},
     "output_type": "display_data"
    },
    {
     "name": "stdout",
     "output_type": "stream",
     "text": [
      "\n"
     ]
    },
    {
     "data": {
      "application/vnd.jupyter.widget-view+json": {
       "model_id": "15c84be06e9c46619d5837ad069a3dea",
       "version_major": 2,
       "version_minor": 0
      },
      "text/plain": [
       "HBox(children=(FloatProgress(value=0.0, description='Blocks', max=40.0, style=ProgressStyle(description_width=…"
      ]
     },
     "metadata": {},
     "output_type": "display_data"
    },
    {
     "name": "stdout",
     "output_type": "stream",
     "text": [
      "\n"
     ]
    },
    {
     "data": {
      "application/vnd.jupyter.widget-view+json": {
       "model_id": "b5c5aa4f43c84453aa8782617807739d",
       "version_major": 2,
       "version_minor": 0
      },
      "text/plain": [
       "HBox(children=(FloatProgress(value=0.0, description='Monte Carlo Iteration', max=50000.0, style=ProgressStyle(…"
      ]
     },
     "metadata": {},
     "output_type": "display_data"
    },
    {
     "name": "stdout",
     "output_type": "stream",
     "text": [
      "\n"
     ]
    },
    {
     "data": {
      "application/vnd.jupyter.widget-view+json": {
       "model_id": "e0b9badb05cf4537943334af589e5e36",
       "version_major": 2,
       "version_minor": 0
      },
      "text/plain": [
       "HBox(children=(FloatProgress(value=0.0, description='Blocks', max=40.0, style=ProgressStyle(description_width=…"
      ]
     },
     "metadata": {},
     "output_type": "display_data"
    },
    {
     "name": "stdout",
     "output_type": "stream",
     "text": [
      "\n"
     ]
    },
    {
     "data": {
      "application/vnd.jupyter.widget-view+json": {
       "model_id": "c381732860934f759a9f2737d286db27",
       "version_major": 2,
       "version_minor": 0
      },
      "text/plain": [
       "HBox(children=(FloatProgress(value=0.0, description='Monte Carlo Iteration', max=50000.0, style=ProgressStyle(…"
      ]
     },
     "metadata": {},
     "output_type": "display_data"
    },
    {
     "name": "stdout",
     "output_type": "stream",
     "text": [
      "\n"
     ]
    },
    {
     "data": {
      "application/vnd.jupyter.widget-view+json": {
       "model_id": "9c5991b4a05d490db7438904b0e71d10",
       "version_major": 2,
       "version_minor": 0
      },
      "text/plain": [
       "HBox(children=(FloatProgress(value=0.0, description='Blocks', max=40.0, style=ProgressStyle(description_width=…"
      ]
     },
     "metadata": {},
     "output_type": "display_data"
    },
    {
     "name": "stdout",
     "output_type": "stream",
     "text": [
      "\n"
     ]
    },
    {
     "data": {
      "application/vnd.jupyter.widget-view+json": {
       "model_id": "f328c4614c7d494d8e669f6748d980bc",
       "version_major": 2,
       "version_minor": 0
      },
      "text/plain": [
       "HBox(children=(FloatProgress(value=0.0, description='Monte Carlo Iteration', max=50000.0, style=ProgressStyle(…"
      ]
     },
     "metadata": {},
     "output_type": "display_data"
    },
    {
     "name": "stdout",
     "output_type": "stream",
     "text": [
      "\n"
     ]
    },
    {
     "data": {
      "application/vnd.jupyter.widget-view+json": {
       "model_id": "5576fdcd7d704f3a845d57c01f5d808a",
       "version_major": 2,
       "version_minor": 0
      },
      "text/plain": [
       "HBox(children=(FloatProgress(value=0.0, description='Blocks', max=40.0, style=ProgressStyle(description_width=…"
      ]
     },
     "metadata": {},
     "output_type": "display_data"
    },
    {
     "name": "stdout",
     "output_type": "stream",
     "text": [
      "\n"
     ]
    },
    {
     "data": {
      "application/vnd.jupyter.widget-view+json": {
       "model_id": "8cb17d461363422cbdd112a2df094e6d",
       "version_major": 2,
       "version_minor": 0
      },
      "text/plain": [
       "HBox(children=(FloatProgress(value=0.0, description='Monte Carlo Iteration', max=50000.0, style=ProgressStyle(…"
      ]
     },
     "metadata": {},
     "output_type": "display_data"
    },
    {
     "name": "stdout",
     "output_type": "stream",
     "text": [
      "\n"
     ]
    },
    {
     "data": {
      "application/vnd.jupyter.widget-view+json": {
       "model_id": "b44ccf0c78764d9a9b4ce4fd41f42e39",
       "version_major": 2,
       "version_minor": 0
      },
      "text/plain": [
       "HBox(children=(FloatProgress(value=0.0, description='Blocks', max=40.0, style=ProgressStyle(description_width=…"
      ]
     },
     "metadata": {},
     "output_type": "display_data"
    },
    {
     "name": "stdout",
     "output_type": "stream",
     "text": [
      "\n"
     ]
    },
    {
     "data": {
      "application/vnd.jupyter.widget-view+json": {
       "model_id": "3cd0ed57e6f54802ae00a6c61fc7c33f",
       "version_major": 2,
       "version_minor": 0
      },
      "text/plain": [
       "HBox(children=(FloatProgress(value=0.0, description='Monte Carlo Iteration', max=50000.0, style=ProgressStyle(…"
      ]
     },
     "metadata": {},
     "output_type": "display_data"
    },
    {
     "name": "stdout",
     "output_type": "stream",
     "text": [
      "\n"
     ]
    },
    {
     "data": {
      "application/vnd.jupyter.widget-view+json": {
       "model_id": "9dd202bcae25461ea2cdda47d6315d63",
       "version_major": 2,
       "version_minor": 0
      },
      "text/plain": [
       "HBox(children=(FloatProgress(value=0.0, description='Blocks', max=40.0, style=ProgressStyle(description_width=…"
      ]
     },
     "metadata": {},
     "output_type": "display_data"
    },
    {
     "name": "stdout",
     "output_type": "stream",
     "text": [
      "\n"
     ]
    },
    {
     "data": {
      "application/vnd.jupyter.widget-view+json": {
       "model_id": "6f11d94005254b0cb70839a0ff1eabc2",
       "version_major": 2,
       "version_minor": 0
      },
      "text/plain": [
       "HBox(children=(FloatProgress(value=0.0, description='Monte Carlo Iteration', max=50000.0, style=ProgressStyle(…"
      ]
     },
     "metadata": {},
     "output_type": "display_data"
    },
    {
     "name": "stdout",
     "output_type": "stream",
     "text": [
      "\n"
     ]
    },
    {
     "data": {
      "application/vnd.jupyter.widget-view+json": {
       "model_id": "3cd1f186805f4448b8f7a9cf116ac43e",
       "version_major": 2,
       "version_minor": 0
      },
      "text/plain": [
       "HBox(children=(FloatProgress(value=0.0, description='Blocks', max=40.0, style=ProgressStyle(description_width=…"
      ]
     },
     "metadata": {},
     "output_type": "display_data"
    },
    {
     "name": "stdout",
     "output_type": "stream",
     "text": [
      "\n"
     ]
    },
    {
     "data": {
      "application/vnd.jupyter.widget-view+json": {
       "model_id": "c8680bd1ff0e488fb2c6eb539c5975d1",
       "version_major": 2,
       "version_minor": 0
      },
      "text/plain": [
       "HBox(children=(FloatProgress(value=0.0, description='Monte Carlo Iteration', max=50000.0, style=ProgressStyle(…"
      ]
     },
     "metadata": {},
     "output_type": "display_data"
    },
    {
     "name": "stdout",
     "output_type": "stream",
     "text": [
      "\n"
     ]
    },
    {
     "data": {
      "application/vnd.jupyter.widget-view+json": {
       "model_id": "7a0af2532eeb45c6b01068fdad8a9b44",
       "version_major": 2,
       "version_minor": 0
      },
      "text/plain": [
       "HBox(children=(FloatProgress(value=0.0, description='Blocks', max=40.0, style=ProgressStyle(description_width=…"
      ]
     },
     "metadata": {},
     "output_type": "display_data"
    },
    {
     "name": "stdout",
     "output_type": "stream",
     "text": [
      "\n"
     ]
    },
    {
     "data": {
      "application/vnd.jupyter.widget-view+json": {
       "model_id": "46052d1f6fe04160859c7635159c4988",
       "version_major": 2,
       "version_minor": 0
      },
      "text/plain": [
       "HBox(children=(FloatProgress(value=0.0, description='Monte Carlo Iteration', max=50000.0, style=ProgressStyle(…"
      ]
     },
     "metadata": {},
     "output_type": "display_data"
    },
    {
     "name": "stdout",
     "output_type": "stream",
     "text": [
      "\n"
     ]
    },
    {
     "data": {
      "application/vnd.jupyter.widget-view+json": {
       "model_id": "00b388df12c1467f94344d9c63482eaa",
       "version_major": 2,
       "version_minor": 0
      },
      "text/plain": [
       "HBox(children=(FloatProgress(value=0.0, description='Blocks', max=40.0, style=ProgressStyle(description_width=…"
      ]
     },
     "metadata": {},
     "output_type": "display_data"
    },
    {
     "name": "stdout",
     "output_type": "stream",
     "text": [
      "\n"
     ]
    },
    {
     "data": {
      "application/vnd.jupyter.widget-view+json": {
       "model_id": "a33cbc293718437b81e6fdb3f64615ee",
       "version_major": 2,
       "version_minor": 0
      },
      "text/plain": [
       "HBox(children=(FloatProgress(value=0.0, description='Monte Carlo Iteration', max=50000.0, style=ProgressStyle(…"
      ]
     },
     "metadata": {},
     "output_type": "display_data"
    },
    {
     "name": "stdout",
     "output_type": "stream",
     "text": [
      "\n"
     ]
    },
    {
     "data": {
      "application/vnd.jupyter.widget-view+json": {
       "model_id": "a95028a473db4a1a8347e8b8aee4ee70",
       "version_major": 2,
       "version_minor": 0
      },
      "text/plain": [
       "HBox(children=(FloatProgress(value=0.0, description='Blocks', max=40.0, style=ProgressStyle(description_width=…"
      ]
     },
     "metadata": {},
     "output_type": "display_data"
    },
    {
     "name": "stdout",
     "output_type": "stream",
     "text": [
      "\n"
     ]
    }
   ],
   "source": [
    "# Other params\n",
    "J = 1.0\n",
    "h = 0.0\n",
    "\n",
    "# Number of iterations\n",
    "IT = 50000\n",
    "\n",
    "kT = J*linspace(start=0.5, stop=5.0, num=50)\n",
    "\n",
    "magnetization = zeros(shape=len(kT), dtype=float)\n",
    "magnetization_error = zeros(shape=len(kT), dtype=float)\n",
    "specific_heat = zeros(shape=len(kT), dtype=float)\n",
    "specific_heat_error = zeros(shape=len(kT), dtype=float)\n",
    "for jj,kT_ in enumerate(kT):\n",
    "    beta_ = 1.0/kT_\n",
    "    \n",
    "    si,tseries = Metropolis_Sim_2D_Ising(spins=generate_spins(N=(10,10), dim=2, seed=2), \n",
    "                                         J=J, \n",
    "                                         h=h, \n",
    "                                         beta=beta_, \n",
    "                                         IT=IT,\n",
    "                                         plot=False\n",
    "                                        )\n",
    "\n",
    "    # Number of MC iterations that respresents a MC pass, same as number of spins in simulation\n",
    "    pass_iterations = si.size\n",
    "\n",
    "    # Number of spins in simulation\n",
    "    N = pass_iterations\n",
    "\n",
    "    # Offset in units of iterations\n",
    "    offset =12  #500\n",
    "\n",
    "    initial_index = offset*pass_iterations\n",
    "\n",
    "    # Size of each block\n",
    "    block_size = 12*pass_iterations\n",
    "\n",
    "    num_blocks = int( float(tseries[:,initial_index:].shape[1])/block_size )\n",
    "\n",
    "    # Magnetization\n",
    "    m = zeros(shape=num_blocks, dtype=float)\n",
    "    # Specific heat\n",
    "    c = zeros(shape=num_blocks, dtype=float)\n",
    "\n",
    "    for ii in tqdm(range(num_blocks),desc='Blocks'):\n",
    "        # We compute the initial and final indices for each block\n",
    "        index_1 = ii*block_size + initial_index\n",
    "        index_2 = index_1 + block_size\n",
    "\n",
    "        # To implement\n",
    "        m[ii] = (1/N)*sum(tseries[2,index_1:index_2])/block_size #Calcula el promedio de \n",
    "                #la magnetización en el bloque\n",
    "        c[ii] =(beta_**2/N)*(sum(tseries[1,index_1:index_2]**2)/block_size\n",
    "                -sum(tseries[1,index_1:index_2])**2/(block_size**2))\n",
    "                #Calcula el calor específico en el bloque\n",
    "\n",
    "    # To implement\n",
    "    eme=sum(m)/num_blocks #Promedio del calor específico\n",
    "    eme2=sum(m**2)/num_blocks #Promedio del cuadrado del calor específico\n",
    "    ce=sum(c)/num_blocks #Promedio del calor específico\n",
    "    ce2=sum(c**2)/num_blocks #Promedio del cuadrado del calor específico \n",
    "    magnetization[jj]=eme\n",
    "    specific_heat[jj]=ce\n",
    "    magnetization_error[jj]=sqrt((eme2-eme**2)/(num_blocks-1)) \n",
    "    specific_heat_error[jj]=sqrt((ce2-ce**2)/(num_blocks-1)) "
   ]
  },
  {
   "cell_type": "markdown",
   "metadata": {},
   "source": [
    "En la celda anterior se calculan la magnetización y el calor específico empleando el método de bloques. \n",
    "Para ello se divide el conjunto de iteraciones dentro de bloques de cierto tamaño, procurando que dicho tamaño sea dos veces el tiempo de correlación para evitar que las mediciones de la magnétización o el calor específico estén correlacionadas entre dos bloques distintos. \n",
    "En cada bloque, se obbtiene el promedio de la magnetización por espín y el calor específico empleando la fórmula\n",
    "$$\\begin{equation}\n",
    "C_v=\\frac{\\beta^2}{N}(\\langle E^2\\rangle-\\langle E\\rangle^2)\n",
    "\\end{equation}$$\n",
    "Una vez hechas las mediciones anteriores en cada bloque se procede a promediar a lo largo de toda la simulación, empleando las fórmulas para los errores\n",
    "$$\\begin{equation}\n",
    "\\sigma_m=\\sqrt{\\frac{1}{n_{bloques}-1}(\\langle M^2\\rangle-\\langle M\\rangle^2)}\n",
    "\\end{equation}$$\n",
    "\n",
    "$$\\begin{equation}\n",
    "\\sigma_C=\\sqrt{\\frac{1}{n_{bloques}-1}(\\langle C_v^2\\rangle-\\langle C_v\\rangle^2)}\n",
    "\\end{equation}$$"
   ]
  },
  {
   "cell_type": "code",
   "execution_count": 96,
   "metadata": {},
   "outputs": [],
   "source": [
    "kT = J*linspace(start=0.5, stop=5.0, num=50)"
   ]
  },
  {
   "cell_type": "code",
   "execution_count": 97,
   "metadata": {},
   "outputs": [
    {
     "data": {
      "image/png": "[encoded data removed]",
      "text/plain": [
       "<Figure size 432x288 with 2 Axes>"
      ]
     },
     "metadata": {
      "needs_background": "light"
     },
     "output_type": "display_data"
    }
   ],
   "source": [
    "fig, axl = plt.subplots()\n",
    "\n",
    "color = 'tab:red'\n",
    "axl.set_xlabel(r'$kT$')\n",
    "axl.set_ylabel(r'$m$', color=color)\n",
    "axl.errorbar(kT, magnetization, magnetization_error, color=color, marker='o')\n",
    "axl.tick_params(axis='y', labelcolor=color)\n",
    "\n",
    "axr = axl.twinx()  # instantiate a second axes that shares the same x-axis\n",
    "\n",
    "color = 'tab:blue'\n",
    "axr.set_ylabel(r'$c$', color=color)\n",
    "axr.errorbar(kT, specific_heat, specific_heat_error,color=color, marker='o')\n",
    "axr.tick_params(axis='y', labelcolor=color)\n",
    "\n",
    "plt.grid(b=True, which='both', axis='both')\n",
    "fig.tight_layout()  # otherwise the right y-label is slightly clipped\n",
    "plt.show()"
   ]
  },
  {
   "cell_type": "markdown",
   "metadata": {},
   "source": [
    "**NOTE:** How the above figure compares with Fig. 3.7 of *M.E.J. Newman & G.T. Barkema, Monte Carlo Methods in Statistical Physics, Clarendon Press, Oxford*?"
   ]
  },
  {
   "cell_type": "markdown",
   "metadata": {},
   "source": [
    "## <span style=\"color:red\">Exercise 1 (3 points) </span>\n",
    "\n",
    "In the cells above we computed the magnetization per spin of the 2-D Ising model with PBC. In this exercise you will have to:\n",
    "\n",
    "1. Compute the magnetization and specific heat per spin for a grid $10\\times 10$ spins using Metropolis-Hastings algorithm.\n",
    "2. Compute the variations in both the magnetization and specific heat using the **blocking method** and plot them as error bars.\n",
    "\n",
    "**NOTE**: A possible layout for your plots might be as the one shown below."
   ]
  },
  {
   "cell_type": "markdown",
   "metadata": {},
   "source": [
    "## Wolff Algorithm\n",
    "\n",
    "Now we are ready to implement and use the Wolff algorithm. For a detailed discussion and implementation algorithm please refer to Sec. 4.2 of *M.E.J. Newman & G.T. Barkema, Monte Carlo Methods in Statistical Physics, Clarendon Press, Oxford*.\n",
    "\n",
    "In the cell below we implement the algorithm for finding the cluster that will be flipped in a single step of the Wolff algorithm. Specifically, the function `find_cluster` implements steps 1 to 4 of the slide below.\n",
    "\n",
    "See lecture of Dec 2, for details."
   ]
  },
  {
   "cell_type": "code",
   "execution_count": 61,
   "metadata": {},
   "outputs": [],
   "source": [
    "def find_cluster(spins, beta=1.0, J=1.0, h=0.0):# seed=None, showplots=False):\n",
    "    \"\"\"\n",
    "    Function that computes/finds the cluster to be flipped in a single step in the Wolff algorithm.\n",
    "    \n",
    "    Parameters\n",
    "    ----------\n",
    "    spins : 2-D array of spins to be used a initial condition.\n",
    "    beta : Inverse of temperature 1/kT.\n",
    "    J : Interaction strength.\n",
    "    h : External field strength.\n",
    "    seed : Seed to be used in pseudo-random generator. If seed=None, a random seed is used every time the\n",
    "           function is called.\n",
    "    showplots : Boolean flag to indicate whether plots of iterations of algorithm to find cluster are shown\n",
    "                (True) or not (False).\n",
    "    \n",
    "    Returns\n",
    "    spins fliped: El arreglo de espines con el cúmulo seleccionado invertido\n",
    "    -------\n",
    "    \"\"\"\n",
    "    \n",
    "    # Implement your function here!\n",
    "    spins_fliped=zeros_like(spins,dtype=bool)#Malla boleana que contendrá \"True\" en aquellos sitios---\n",
    "                                            #---que se añadan al cluster\n",
    "    Nx=spins.shape[1] #Determina el número de columnas de la malla de espines\n",
    "    Ny=spins.shape[0] #Determina el núero de renglones de la malla de espines\n",
    "    ii = random.randint(low=0,high=Ny)    #Determina de forma aleatoria la posición del sitio semilla \n",
    "    jj = random.randint(low=0,high=Nx)  \n",
    "    s_test = spins.copy() # Getting a copy is important!\n",
    "    indexx=[] #Esta lista contendrá los nuevos sitios que se irán añadiendo al cluster en cada iteración\n",
    "    indexx.append([ii,jj]) #Primero se añade el sitio semilla\n",
    "    spins_fliped[ii,jj]=True #También se \"activa\" el sitio semilla en la malla boleana\n",
    "    P_add=1-exp(-2*beta*J) #Se calcula el valor de la P_add\n",
    "    value=s_test[ii,jj] #Se guarda la orientación del sitio semilla en el flotante \"value\"\n",
    "    while len(indexx)!=0: #Si la lista de nuevos sitios añadidos está vacía entonces detente el proceso\n",
    "        indexx_aux=[] #Lista de sitios auxiliar \n",
    "        for i in indexx: #Determina los primeros vecinos de los sitios de la lista y añádelos--- \n",
    "            #---al cluster según el algoritmo de Wolf\n",
    "            ii,jj=i[0],i[1]\n",
    "            ii_up=(ii-1)%Ny #Vecino superior\n",
    "            ii_down=(ii+1)%Ny #Vecino inferior\n",
    "            jj_left=(jj-1)%Nx #Vecino izquierdo\n",
    "            jj_right=(jj+1)%Ny #Vecino derecho\n",
    "            #Si el vecino superior apunta en la misma dirección que el espín del sitio---\n",
    "            #---(ii,jj) y si aún no se ha añadido al---\n",
    "            #--- cluster entonces añadelo con probabilidad P_add \n",
    "            if s_test[ii_up,jj]==value and spins_fliped[ii_up,jj]==False: \n",
    "                random_number = random.uniform(low=0.0, high=1.0)\n",
    "                if random_number<=P_add:\n",
    "                    indexx_aux.append([ii_up,jj])\n",
    "                    spins_fliped[ii_up,jj]=True #Activa el sitio que se acaba de añadir\n",
    "            #Si el vecino inferior apunta en la misma dirección que el espín del sitio\n",
    "            # (ii,jj) y si aún no se ha añadido al\n",
    "            #cluster entonces añadelo con probabilidad P_add \n",
    "            if s_test[ii_down,jj]==value and spins_fliped[ii_down,jj]==False:\n",
    "                random_number = random.uniform(low=0.0, high=1.0)\n",
    "                if random_number<=P_add:\n",
    "                    indexx_aux.append([ii_down,jj])\n",
    "                    spins_fliped[ii_down,jj]=True\n",
    "            #Si el vecino izquierdo apunta en la misma dirección que el espín del sitio\n",
    "            # (ii,jj) y si aún no se ha añadido al\n",
    "            #cluster entonces añadelo con probabilidad P_add \n",
    "            if s_test[ii,jj_left]==value and spins_fliped[ii,jj_left]==False:\n",
    "                random_number = random.uniform(low=0.0, high=1.0)\n",
    "                if random_number<=P_add:\n",
    "                    indexx_aux.append([ii,jj_left])\n",
    "                    spins_fliped[ii,jj_left]=True\n",
    "            #Si el vecino derecho apunta en la misma dirección que el espín del sitio\n",
    "            # (ii,jj) y si aún no se ha añadido al\n",
    "            #cluster entonces añadelo con probabilidad P_add \n",
    "            if s_test[ii,jj_right]==value and spins_fliped[ii,jj_right]==False:\n",
    "                random_number = random.uniform(low=0.0, high=1.0)\n",
    "                if random_number<=P_add:\n",
    "                    indexx_aux.append([ii,jj_right])\n",
    "                    spins_fliped[ii,jj_right]=True\n",
    "            indexx=indexx_aux\n",
    "\n",
    "            \n",
    "    #return s_new\n",
    "    \n",
    "    #cluster = np.zeros_like(spins, dtype=bool)\n",
    "    cluster=spins_fliped\n",
    "    return cluster"
   ]
  },
  {
   "cell_type": "code",
   "execution_count": 60,
   "metadata": {},
   "outputs": [],
   "source": [
    "def find_cluster_visualization(spins, beta=1.0, J=1.0, h=0.0):# seed=None, showplots=False):\n",
    "    \"\"\"\n",
    "    Function that computes/finds the cluster to be flipped in a single step in the Wolff algorithm\n",
    "    and show a subplot of the process of adding new sites to the cluster\n",
    "    \n",
    "    Parameters\n",
    "    ----------\n",
    "    spins : 2-D array of spins to be used a initial condition.\n",
    "    beta : Inverse of temperature 1/kT.\n",
    "    J : Interaction strength.\n",
    "    h : External field strength.\n",
    "    seed : Seed to be used in pseudo-random generator. If seed=None, a random seed is used every time the\n",
    "           function is called.\n",
    "    showplots : Boolean flag to indicate whether plots of iterations of algorithm to find cluster are shown\n",
    "                (True) or not (False).\n",
    "    \n",
    "    Returns\n",
    "    Process visualization: El conjunto de figuras del proceso para añadir nuevos espines a un \n",
    "    cúmulo. \n",
    "    El código es bastante similar al empleado para la función find_cluster pero se añaden \n",
    "    características adicionales para graficar los pasos del proceso de añadir nuevos sitios al cúmulo\n",
    "    -------\n",
    "    \"\"\"\n",
    "    \n",
    "    # Implement your function here!\n",
    "    spins_fliped=zeros_like(spins,dtype=bool)\n",
    "    Nx=spins.shape[1]\n",
    "    Ny=spins.shape[0]\n",
    "    ii = random.randint(low=0,high=Nx)    \n",
    "    jj = random.randint(low=0,high=Ny)   # 2. Try flip\n",
    "    s_test = spins.copy()\n",
    "    s_evol=spins.copy()#Malla actualizada en cada paso\n",
    "    indexx=[]\n",
    "    indexx.append([ii,jj])\n",
    "    spins_fliped[ii,jj]=True\n",
    "    P_add=1-exp(-2*beta*J)\n",
    "    EVOL=[] #Lista vacía que contedrá las mallas actualizas en cada paso\n",
    "    value=s_test[ii,jj]\n",
    "    s_evol[ii,jj]=0.25*value#Se le asocia un nuevo valor a cada nuevo espín añadido \n",
    "                            #para poder identificarlo en el mapa de calor\n",
    "    EVOL.append(s_evol)\n",
    "    s_aux=s_evol.copy()#Malla auxiliar que contendrá los nuevos espines añadidos en cada paso\n",
    "    while len(indexx)!=0:\n",
    "        indexx_aux=[]\n",
    "        s_aux=s_aux.copy()\n",
    "        for i in indexx:\n",
    "            ii,jj=i[0],i[1]\n",
    "            s_aux[ii,jj]=0.5*value #Se asocia un valor distinto a los espines que ya habían sido \n",
    "                                #previamente añadidos para identificarlos en el mapa de calor\n",
    "            ii_up=(ii-1)%Ny\n",
    "            ii_down=(ii+1)%Ny\n",
    "            jj_left=(jj-1)%Nx\n",
    "            jj_right=(jj+1)%Ny\n",
    "            if s_test[ii_up,jj]==value and spins_fliped[ii_up,jj]==False:\n",
    "                random_number = random.uniform(low=0.0, high=1.0)\n",
    "                if random_number<=P_add: \n",
    "                    indexx_aux.append([ii_up,jj])\n",
    "                    spins_fliped[ii_up,jj]=True \n",
    "                    s_aux[ii_up,jj]=0.25*value #nuevo espín añadido\n",
    "            if s_test[ii_down,jj]==value and spins_fliped[ii_down,jj]==False:\n",
    "                random_number = random.uniform(low=0.0, high=1.0)\n",
    "                if random_number<=P_add:\n",
    "                    indexx_aux.append([ii_down,jj])\n",
    "                    spins_fliped[ii_down,jj]=True\n",
    "                    s_aux[ii_down,jj]=0.25*value #nuevo espín añadido\n",
    "            if s_test[ii,jj_left]==value and spins_fliped[ii,jj_left]==False:\n",
    "                random_number = random.uniform(low=0.0, high=1.0)\n",
    "                if random_number<=P_add:\n",
    "                    indexx_aux.append([ii,jj_left])\n",
    "                    spins_fliped[ii,jj_left]=True\n",
    "                    s_aux[ii,jj_left]=0.25*value #nuevo espín añadido\n",
    "            if s_test[ii,jj_right]==value and spins_fliped[ii,jj_right]==False:\n",
    "                random_number = random.uniform(low=0.0, high=1.0)\n",
    "                if random_number<=P_add:\n",
    "                    indexx_aux.append([ii,jj_right])\n",
    "                    spins_fliped[ii,jj_right]=True\n",
    "                    s_aux[ii,jj_right]=0.25*value #nuevo espín añadido\n",
    "            indexx=indexx_aux\n",
    "        EVOL.append(s_aux)\n",
    "\n",
    "            \n",
    "    #return s_new\n",
    "    fig=plt.figure(figsize=(10*len(EVOL),3*len(EVOL)))\n",
    "    rows=len(EVOL)\n",
    "    columns=1\n",
    "    for k in range(0,len(EVOL)):\n",
    "        evol=EVOL[k]\n",
    "        fig.add_subplot(rows, columns, k+1)\n",
    "        fig, ax = plt.subplots()\n",
    "       # im = ax.imshow(A)\n",
    "        for ii in range(Ny):\n",
    "            for jj in range(Nx):\n",
    "                if evol[ii,jj]==0.25*value:\n",
    "                    text = ax.text(jj, ii,k,ha=\"center\", va=\"center\", color=\"r\")\n",
    "                    #los espines que previamente consituian el cúmulo se identifican con una x\n",
    "                elif evol[ii,jj]==0.5*value:\n",
    "                    text = ax.text(jj, ii,'x',ha=\"center\", va=\"center\", color=\"r\")\n",
    "                    #los nuevos espines añadidos se identifican con una con un número igual \n",
    "                    #al paso en el que se añadieron\n",
    "        plt.imshow(evol)\n",
    "        plt.show()\n",
    "    \n",
    "    #cluster = np.zeros_like(spins, dtype=bool)\n",
    "    #cluster=spins_fliped\n",
    "    return #cluster    "
   ]
  },
  {
   "cell_type": "code",
   "execution_count": 63,
   "metadata": {},
   "outputs": [],
   "source": [
    "A=random.rand(10,10)\n",
    "bol_m=A<0.5\n",
    "bol_m\n",
    "A[bol_m]=1.0\n",
    "A[~bol_m]=-1.0"
   ]
  },
  {
   "cell_type": "code",
   "execution_count": 64,
   "metadata": {},
   "outputs": [
    {
     "data": {
      "image/png": "[encoded data removed]",
      "text/plain": [
       "<Figure size 7200x2160 with 1 Axes>"
      ]
     },
     "metadata": {
      "needs_background": "light"
     },
     "output_type": "display_data"
    },
    {
     "data": {
      "image/png": "[encoded data removed]",
      "text/plain": [
       "<Figure size 432x288 with 1 Axes>"
      ]
     },
     "metadata": {
      "needs_background": "light"
     },
     "output_type": "display_data"
    },
    {
     "data": {
      "image/png": "[encoded data removed]",
      "text/plain": [
       "<Figure size 432x288 with 1 Axes>"
      ]
     },
     "metadata": {
      "needs_background": "light"
     },
     "output_type": "display_data"
    },
    {
     "data": {
      "image/png": "[encoded data removed]",
      "text/plain": [
       "<Figure size 432x288 with 1 Axes>"
      ]
     },
     "metadata": {
      "needs_background": "light"
     },
     "output_type": "display_data"
    },
    {
     "data": {
      "image/png": "[encoded data removed]",
      "text/plain": [
       "<Figure size 432x288 with 1 Axes>"
      ]
     },
     "metadata": {
      "needs_background": "light"
     },
     "output_type": "display_data"
    },
    {
     "data": {
      "image/png": "[encoded data removed]",
      "text/plain": [
       "<Figure size 432x288 with 1 Axes>"
      ]
     },
     "metadata": {
      "needs_background": "light"
     },
     "output_type": "display_data"
    },
    {
     "data": {
      "image/png": "[encoded data removed]",
      "text/plain": [
       "<Figure size 432x288 with 1 Axes>"
      ]
     },
     "metadata": {
      "needs_background": "light"
     },
     "output_type": "display_data"
    },
    {
     "data": {
      "image/png": "[encoded data removed]",
      "text/plain": [
       "<Figure size 432x288 with 1 Axes>"
      ]
     },
     "metadata": {
      "needs_background": "light"
     },
     "output_type": "display_data"
    },
    {
     "data": {
      "image/png": "[encoded data removed]",
      "text/plain": [
       "<Figure size 432x288 with 1 Axes>"
      ]
     },
     "metadata": {
      "needs_background": "light"
     },
     "output_type": "display_data"
    },
    {
     "data": {
      "image/png": "[encoded data removed]",
      "text/plain": [
       "<Figure size 432x288 with 1 Axes>"
      ]
     },
     "metadata": {
      "needs_background": "light"
     },
     "output_type": "display_data"
    },
    {
     "data": {
      "image/png": "[encoded data removed]",
      "text/plain": [
       "<Figure size 432x288 with 1 Axes>"
      ]
     },
     "metadata": {
      "needs_background": "light"
     },
     "output_type": "display_data"
    }
   ],
   "source": [
    "find_cluster_visualization(A, beta=.5, J=1.0, h=0.0)"
   ]
  },
  {
   "cell_type": "markdown",
   "metadata": {},
   "source": [
    "## <span style=\"color:red\">Exercise 2 (4 points) </span>\n",
    "\n",
    "1. Implement the function `find_cluster` so that it produces equivalent results to those shown in the cells above. 2. Visualization of the intermediate steps during the computation of the cluster are optional.\n",
    "3. The resulting function must return a boolean mask, `cluster`,of the same shape as the array of spins `spins`. Use dtype=bool for `cluster` numpy array.\n",
    "\n",
    "The implemented function `find_cluster` can now be used to perform a MC simulation using the Wolff algorithm below."
   ]
  },
  {
   "cell_type": "code",
   "execution_count": 67,
   "metadata": {},
   "outputs": [],
   "source": [
    "def Wolff_Sim_2D_Ising(spins, J=1.0, h=0.0, beta=1.0, IT=100, plot=True):\n",
    "    \"\"\"\n",
    "    Function that performs a MC simulation of the 1-D Ising system using the Wolff algorithm.\n",
    "    \n",
    "    Parameters\n",
    "    ----------\n",
    "    spins : 2-D array of spins to be used a initial condition.\n",
    "    beta : Inverse of temperature 1/kT.\n",
    "    J : Interaction strength.\n",
    "    h : External field strength.\n",
    "    IT : Number of steps/iterations of the Metropolis-Hastings algorithm.\n",
    "    plot : Boolean flag to indicate whether plots of time series are generated (True) or not (False).\n",
    "    \n",
    "    Returns\n",
    "    -------\n",
    "    spins : Final configuration of spins by the end of the simulation.\n",
    "    tseries : 2-D numpy array of shape (3,IT) containing simulation time tseries[0,:], energy per spin tseries[1,:]\n",
    "              and magnetization per spin tseries[2,:].\n",
    "    \"\"\"\n",
    "    \n",
    "    N = spins.size # Number of spins in simulation\n",
    "    tseries = zeros(shape=(3,IT), dtype=float)\n",
    "\n",
    "    # Wolff algorithm\n",
    "    for it in tqdm(range(IT), desc='Algorithm Iteration'):\n",
    "        cluster = find_cluster(spins=spins,\n",
    "                               beta=beta,\n",
    "                               J=J,\n",
    "                               h=h\n",
    "                              )\n",
    "        \n",
    "        # simple_visualization(spins=spins, grid=False, annotate=False, mask=cluster, mask_value=str(it))\n",
    "        \n",
    "        spins[cluster] = -spins[cluster]\n",
    "        \n",
    "        # Time series\n",
    "        tseries[1,it] = H_2DI(s=spins, J=J, h=h, PBC=True) # Energy\n",
    "        tseries[2,it] = abs( spins.sum() ) # Magnetization\n",
    "        \n",
    "    E = tseries[1,:]/float(N) # Energy per spin\n",
    "    M = tseries[2,:]/float(N) # Magnetization per spin\n",
    "    tseries[0,:] = arange(0,IT, dtype=float)\n",
    "    \n",
    "    if plot:\n",
    "        # Quick plot of internal energy vs. time    \n",
    "        fig, axl = plt.subplots()\n",
    "\n",
    "        color = 'tab:red'\n",
    "        axl.set_xlabel(r'Time $t$ [MC steps per site]')\n",
    "        axl.set_ylabel(r'$\\mathcal{E}(t)$ [per site]', color=color)\n",
    "        axl.plot(tseries[0,:], E, color=color)\n",
    "        axl.tick_params(axis='y', labelcolor=color)\n",
    "\n",
    "        axr = axl.twinx()  # instantiate a second axes that shares the same x-axis\n",
    "\n",
    "        color = 'tab:blue'\n",
    "        axr.set_ylabel(r'$\\mathcal{M}(t)$ [per site]', color=color)\n",
    "        axr.plot(tseries[0,:], M, color=color)\n",
    "        axr.tick_params(axis='y', labelcolor=color)\n",
    "\n",
    "        #fig.tight_layout()  # otherwise the right y-label is slightly clipped\n",
    "        plt.show()\n",
    "    \n",
    "    return spins, tseries"
   ]
  },
  {
   "cell_type": "code",
   "execution_count": 93,
   "metadata": {},
   "outputs": [
    {
     "name": "stdout",
     "output_type": "stream",
     "text": [
      "Temperature: 2.40 | Beta: 0.42\n"
     ]
    },
    {
     "data": {
      "image/png": "[encoded data removed]",
      "text/plain": [
       "<Figure size 432x288 with 1 Axes>"
      ]
     },
     "metadata": {},
     "output_type": "display_data"
    },
    {
     "data": {
      "application/vnd.jupyter.widget-view+json": {
       "model_id": "cf57c585dbef4eb7a5c834adebffbd27",
       "version_major": 2,
       "version_minor": 0
      },
      "text/plain": [
       "HBox(children=(FloatProgress(value=0.0, description='Algorithm Iteration', max=10000.0, style=ProgressStyle(de…"
      ]
     },
     "metadata": {},
     "output_type": "display_data"
    },
    {
     "name": "stdout",
     "output_type": "stream",
     "text": [
      "\n"
     ]
    },
    {
     "data": {
      "image/png": "[encoded data removed]",
      "text/plain": [
       "<Figure size 432x288 with 2 Axes>"
      ]
     },
     "metadata": {
      "needs_background": "light"
     },
     "output_type": "display_data"
    },
    {
     "data": {
      "image/png": "[encoded data removed]",
      "text/plain": [
       "<Figure size 432x288 with 1 Axes>"
      ]
     },
     "metadata": {},
     "output_type": "display_data"
    }
   ],
   "source": [
    "# Other params\n",
    "J = 1.0\n",
    "h = 0.0\n",
    "\n",
    "# Temperature\n",
    "kT = 2.4*J\n",
    "beta = 1.0/kT\n",
    "\n",
    "print('Temperature: %2.2f | Beta: %2.2f' % (kT, beta))\n",
    "\n",
    "# Number of iterations\n",
    "IT = 10000\n",
    "\n",
    "foo = generate_spins(N=(10,10), dim=2, seed=2)\n",
    "\n",
    "simple_visualization(spins=foo, grid=False, annotate=False)\n",
    "\n",
    "si,tseries = Wolff_Sim_2D_Ising(spins=foo, \n",
    "                                J=J, \n",
    "                                h=h, \n",
    "                                beta=beta, \n",
    "                                IT=IT,\n",
    "                                plot=True\n",
    "                               )\n",
    "\n",
    "simple_visualization(spins=si, grid=False, annotate=False)"
   ]
  },
  {
   "cell_type": "code",
   "execution_count": 94,
   "metadata": {},
   "outputs": [
    {
     "data": {
      "application/vnd.jupyter.widget-view+json": {
       "model_id": "a741b22061134bed9bcb40a71fcbc7e1",
       "version_major": 2,
       "version_minor": 0
      },
      "text/plain": [
       "HBox(children=(FloatProgress(value=0.0, description='Time', max=10000.0, style=ProgressStyle(description_width…"
      ]
     },
     "metadata": {},
     "output_type": "display_data"
    },
    {
     "name": "stdout",
     "output_type": "stream",
     "text": [
      "\n",
      "Correlation time for time series:   1 | iteration:     9874\n",
      "Correlation time for time series:   2 | iteration:        2\n"
     ]
    },
    {
     "data": {
      "image/png": "[encoded data removed]",
      "text/plain": [
       "<Figure size 432x288 with 1 Axes>"
      ]
     },
     "metadata": {
      "needs_background": "light"
     },
     "output_type": "display_data"
    }
   ],
   "source": [
    "chi,taus = autocorrelationTime(tseries, semilog=False)"
   ]
  },
  {
   "cell_type": "markdown",
   "metadata": {},
   "source": [
    "De aquí podemos notar que el tiempo de correlación es igual a dos iteraciones, por lo que siempre que tomemos mediciones cada 4 o más iteraciones, podemos decir que tales mediciones están poco correlacionadas"
   ]
  },
  {
   "cell_type": "markdown",
   "metadata": {},
   "source": [
    "## <span style=\"color:red\">Exercise 3 (3 points) </span>\n",
    "\n",
    "In this exercise you will have to use the time series of the MC simulations using the Wolff algorithm for:\n",
    "\n",
    "1. Compute the magnetization and specific heat per spin for a grid of $10\\times 10$ spins using the Wolff algorithm.\n",
    "2. Use the notes `Tony_Guttmann_Notes.pdf` in the Google Drive folder for computing the analytical magnetization and plot it agains the numerical results.\n",
    "3. Compute the variations in both the magnetization and specific heat using the **bootstrap method** and plot them as error bars.\n",
    "\n",
    "**NOTE 1**: in the case of the Wolff algorithm there is no concept of a number of iterations corresponding to a MC pass, since a single step of the Wolff algorithm correspond to a MC pass in the case of the Metropolis-Hastings method.\n",
    "\n",
    "**NOTE 2**: A possible layout for your plots might be as the one shown below.\n",
    "\n",
    "<img src=\"example.png\">"
   ]
  },
  {
   "cell_type": "code",
   "execution_count": 98,
   "metadata": {},
   "outputs": [
    {
     "data": {
      "application/vnd.jupyter.widget-view+json": {
       "model_id": "c14115ace8ea4c709acb473712cb1f3c",
       "version_major": 2,
       "version_minor": 0
      },
      "text/plain": [
       "HBox(children=(FloatProgress(value=1.0, bar_style='info', description='SIMULATIONS', layout=Layout(width='20px…"
      ]
     },
     "metadata": {},
     "output_type": "display_data"
    },
    {
     "data": {
      "application/vnd.jupyter.widget-view+json": {
       "model_id": "78947b73b59045258028ad1832d87e71",
       "version_major": 2,
       "version_minor": 0
      },
      "text/plain": [
       "HBox(children=(FloatProgress(value=0.0, description='Algorithm Iteration', max=50000.0, style=ProgressStyle(de…"
      ]
     },
     "metadata": {},
     "output_type": "display_data"
    },
    {
     "name": "stdout",
     "output_type": "stream",
     "text": [
      "\n"
     ]
    },
    {
     "data": {
      "application/vnd.jupyter.widget-view+json": {
       "model_id": "6c9bda4c04f0497aaa0690de1c3b0ce8",
       "version_major": 2,
       "version_minor": 0
      },
      "text/plain": [
       "HBox(children=(FloatProgress(value=0.0, description='Samples', max=40.0, style=ProgressStyle(description_width…"
      ]
     },
     "metadata": {},
     "output_type": "display_data"
    },
    {
     "name": "stdout",
     "output_type": "stream",
     "text": [
      "\n"
     ]
    },
    {
     "data": {
      "application/vnd.jupyter.widget-view+json": {
       "model_id": "e45c658cf4f44080bd277261cc311dbf",
       "version_major": 2,
       "version_minor": 0
      },
      "text/plain": [
       "HBox(children=(FloatProgress(value=0.0, description='Algorithm Iteration', max=50000.0, style=ProgressStyle(de…"
      ]
     },
     "metadata": {},
     "output_type": "display_data"
    },
    {
     "name": "stdout",
     "output_type": "stream",
     "text": [
      "\n"
     ]
    },
    {
     "data": {
      "application/vnd.jupyter.widget-view+json": {
       "model_id": "e7865e4cd76440759e3d29883eaa9b86",
       "version_major": 2,
       "version_minor": 0
      },
      "text/plain": [
       "HBox(children=(FloatProgress(value=0.0, description='Samples', max=40.0, style=ProgressStyle(description_width…"
      ]
     },
     "metadata": {},
     "output_type": "display_data"
    },
    {
     "name": "stdout",
     "output_type": "stream",
     "text": [
      "\n"
     ]
    },
    {
     "data": {
      "application/vnd.jupyter.widget-view+json": {
       "model_id": "26ef685e36bb44059a6d5dfae1ce6000",
       "version_major": 2,
       "version_minor": 0
      },
      "text/plain": [
       "HBox(children=(FloatProgress(value=0.0, description='Algorithm Iteration', max=50000.0, style=ProgressStyle(de…"
      ]
     },
     "metadata": {},
     "output_type": "display_data"
    },
    {
     "name": "stdout",
     "output_type": "stream",
     "text": [
      "\n"
     ]
    },
    {
     "data": {
      "application/vnd.jupyter.widget-view+json": {
       "model_id": "ab70f6f147314b7196be6bb2c2c54e4b",
       "version_major": 2,
       "version_minor": 0
      },
      "text/plain": [
       "HBox(children=(FloatProgress(value=0.0, description='Samples', max=40.0, style=ProgressStyle(description_width…"
      ]
     },
     "metadata": {},
     "output_type": "display_data"
    },
    {
     "name": "stdout",
     "output_type": "stream",
     "text": [
      "\n"
     ]
    },
    {
     "data": {
      "application/vnd.jupyter.widget-view+json": {
       "model_id": "430bfba13a4847cfa3586b9cb3ae9a86",
       "version_major": 2,
       "version_minor": 0
      },
      "text/plain": [
       "HBox(children=(FloatProgress(value=0.0, description='Algorithm Iteration', max=50000.0, style=ProgressStyle(de…"
      ]
     },
     "metadata": {},
     "output_type": "display_data"
    },
    {
     "name": "stdout",
     "output_type": "stream",
     "text": [
      "\n"
     ]
    },
    {
     "data": {
      "application/vnd.jupyter.widget-view+json": {
       "model_id": "d7440604dbf144a6bbb4b0dac6d36730",
       "version_major": 2,
       "version_minor": 0
      },
      "text/plain": [
       "HBox(children=(FloatProgress(value=0.0, description='Samples', max=40.0, style=ProgressStyle(description_width…"
      ]
     },
     "metadata": {},
     "output_type": "display_data"
    },
    {
     "name": "stdout",
     "output_type": "stream",
     "text": [
      "\n"
     ]
    },
    {
     "data": {
      "application/vnd.jupyter.widget-view+json": {
       "model_id": "b45a4c0580a34b1c840846fc4b0f0d07",
       "version_major": 2,
       "version_minor": 0
      },
      "text/plain": [
       "HBox(children=(FloatProgress(value=0.0, description='Algorithm Iteration', max=50000.0, style=ProgressStyle(de…"
      ]
     },
     "metadata": {},
     "output_type": "display_data"
    },
    {
     "name": "stdout",
     "output_type": "stream",
     "text": [
      "\n"
     ]
    },
    {
     "data": {
      "application/vnd.jupyter.widget-view+json": {
       "model_id": "7f9e001c50424692b524954eff1c1660",
       "version_major": 2,
       "version_minor": 0
      },
      "text/plain": [
       "HBox(children=(FloatProgress(value=0.0, description='Samples', max=40.0, style=ProgressStyle(description_width…"
      ]
     },
     "metadata": {},
     "output_type": "display_data"
    },
    {
     "name": "stdout",
     "output_type": "stream",
     "text": [
      "\n"
     ]
    },
    {
     "data": {
      "application/vnd.jupyter.widget-view+json": {
       "model_id": "d97bbbd34fe247b9b2cd6ac892141a20",
       "version_major": 2,
       "version_minor": 0
      },
      "text/plain": [
       "HBox(children=(FloatProgress(value=0.0, description='Algorithm Iteration', max=50000.0, style=ProgressStyle(de…"
      ]
     },
     "metadata": {},
     "output_type": "display_data"
    },
    {
     "name": "stdout",
     "output_type": "stream",
     "text": [
      "\n"
     ]
    },
    {
     "data": {
      "application/vnd.jupyter.widget-view+json": {
       "model_id": "6fe66047e0a9465dbad27bfeeacef2ea",
       "version_major": 2,
       "version_minor": 0
      },
      "text/plain": [
       "HBox(children=(FloatProgress(value=0.0, description='Samples', max=40.0, style=ProgressStyle(description_width…"
      ]
     },
     "metadata": {},
     "output_type": "display_data"
    },
    {
     "name": "stdout",
     "output_type": "stream",
     "text": [
      "\n"
     ]
    },
    {
     "data": {
      "application/vnd.jupyter.widget-view+json": {
       "model_id": "6b8e38d785f7475da05f8ab59028fd21",
       "version_major": 2,
       "version_minor": 0
      },
      "text/plain": [
       "HBox(children=(FloatProgress(value=0.0, description='Algorithm Iteration', max=50000.0, style=ProgressStyle(de…"
      ]
     },
     "metadata": {},
     "output_type": "display_data"
    },
    {
     "name": "stdout",
     "output_type": "stream",
     "text": [
      "\n"
     ]
    },
    {
     "data": {
      "application/vnd.jupyter.widget-view+json": {
       "model_id": "7c074fe608e241219ba93cbf7b62fad7",
       "version_major": 2,
       "version_minor": 0
      },
      "text/plain": [
       "HBox(children=(FloatProgress(value=0.0, description='Samples', max=40.0, style=ProgressStyle(description_width…"
      ]
     },
     "metadata": {},
     "output_type": "display_data"
    },
    {
     "name": "stdout",
     "output_type": "stream",
     "text": [
      "\n"
     ]
    },
    {
     "data": {
      "application/vnd.jupyter.widget-view+json": {
       "model_id": "674275d7cd15488b8e93c43e842824cb",
       "version_major": 2,
       "version_minor": 0
      },
      "text/plain": [
       "HBox(children=(FloatProgress(value=0.0, description='Algorithm Iteration', max=50000.0, style=ProgressStyle(de…"
      ]
     },
     "metadata": {},
     "output_type": "display_data"
    },
    {
     "name": "stdout",
     "output_type": "stream",
     "text": [
      "\n"
     ]
    },
    {
     "data": {
      "application/vnd.jupyter.widget-view+json": {
       "model_id": "f89b539cb91846f885e92d227dd5846f",
       "version_major": 2,
       "version_minor": 0
      },
      "text/plain": [
       "HBox(children=(FloatProgress(value=0.0, description='Samples', max=40.0, style=ProgressStyle(description_width…"
      ]
     },
     "metadata": {},
     "output_type": "display_data"
    },
    {
     "name": "stdout",
     "output_type": "stream",
     "text": [
      "\n"
     ]
    },
    {
     "data": {
      "application/vnd.jupyter.widget-view+json": {
       "model_id": "e236c1e0db7b4f8281b20b6be3ec4ed3",
       "version_major": 2,
       "version_minor": 0
      },
      "text/plain": [
       "HBox(children=(FloatProgress(value=0.0, description='Algorithm Iteration', max=50000.0, style=ProgressStyle(de…"
      ]
     },
     "metadata": {},
     "output_type": "display_data"
    },
    {
     "name": "stdout",
     "output_type": "stream",
     "text": [
      "\n"
     ]
    },
    {
     "data": {
      "application/vnd.jupyter.widget-view+json": {
       "model_id": "0a00946162044aaeba2ae2619e6087ac",
       "version_major": 2,
       "version_minor": 0
      },
      "text/plain": [
       "HBox(children=(FloatProgress(value=0.0, description='Samples', max=40.0, style=ProgressStyle(description_width…"
      ]
     },
     "metadata": {},
     "output_type": "display_data"
    },
    {
     "name": "stdout",
     "output_type": "stream",
     "text": [
      "\n"
     ]
    },
    {
     "data": {
      "application/vnd.jupyter.widget-view+json": {
       "model_id": "bc1686c86e2a4c60a3dc76c87e1e116c",
       "version_major": 2,
       "version_minor": 0
      },
      "text/plain": [
       "HBox(children=(FloatProgress(value=0.0, description='Algorithm Iteration', max=50000.0, style=ProgressStyle(de…"
      ]
     },
     "metadata": {},
     "output_type": "display_data"
    },
    {
     "name": "stdout",
     "output_type": "stream",
     "text": [
      "\n"
     ]
    },
    {
     "data": {
      "application/vnd.jupyter.widget-view+json": {
       "model_id": "2adb0bdb5614450183c37c1786ca8498",
       "version_major": 2,
       "version_minor": 0
      },
      "text/plain": [
       "HBox(children=(FloatProgress(value=0.0, description='Samples', max=40.0, style=ProgressStyle(description_width…"
      ]
     },
     "metadata": {},
     "output_type": "display_data"
    },
    {
     "name": "stdout",
     "output_type": "stream",
     "text": [
      "\n"
     ]
    },
    {
     "data": {
      "application/vnd.jupyter.widget-view+json": {
       "model_id": "9b4dac9711a747c3869e3207ea446c7f",
       "version_major": 2,
       "version_minor": 0
      },
      "text/plain": [
       "HBox(children=(FloatProgress(value=0.0, description='Algorithm Iteration', max=50000.0, style=ProgressStyle(de…"
      ]
     },
     "metadata": {},
     "output_type": "display_data"
    },
    {
     "name": "stdout",
     "output_type": "stream",
     "text": [
      "\n"
     ]
    },
    {
     "data": {
      "application/vnd.jupyter.widget-view+json": {
       "model_id": "b40547ff7fec46ad956c493dece4067a",
       "version_major": 2,
       "version_minor": 0
      },
      "text/plain": [
       "HBox(children=(FloatProgress(value=0.0, description='Samples', max=40.0, style=ProgressStyle(description_width…"
      ]
     },
     "metadata": {},
     "output_type": "display_data"
    },
    {
     "name": "stdout",
     "output_type": "stream",
     "text": [
      "\n"
     ]
    },
    {
     "data": {
      "application/vnd.jupyter.widget-view+json": {
       "model_id": "7a7d747605a244368dcfb35bfbaef868",
       "version_major": 2,
       "version_minor": 0
      },
      "text/plain": [
       "HBox(children=(FloatProgress(value=0.0, description='Algorithm Iteration', max=50000.0, style=ProgressStyle(de…"
      ]
     },
     "metadata": {},
     "output_type": "display_data"
    },
    {
     "name": "stdout",
     "output_type": "stream",
     "text": [
      "\n"
     ]
    },
    {
     "data": {
      "application/vnd.jupyter.widget-view+json": {
       "model_id": "c7664fb1981d4154903d5d461a623380",
       "version_major": 2,
       "version_minor": 0
      },
      "text/plain": [
       "HBox(children=(FloatProgress(value=0.0, description='Samples', max=40.0, style=ProgressStyle(description_width…"
      ]
     },
     "metadata": {},
     "output_type": "display_data"
    },
    {
     "name": "stdout",
     "output_type": "stream",
     "text": [
      "\n"
     ]
    },
    {
     "data": {
      "application/vnd.jupyter.widget-view+json": {
       "model_id": "dfbeda5dd50a489b8a561084cd78c4b1",
       "version_major": 2,
       "version_minor": 0
      },
      "text/plain": [
       "HBox(children=(FloatProgress(value=0.0, description='Algorithm Iteration', max=50000.0, style=ProgressStyle(de…"
      ]
     },
     "metadata": {},
     "output_type": "display_data"
    },
    {
     "name": "stdout",
     "output_type": "stream",
     "text": [
      "\n"
     ]
    },
    {
     "data": {
      "application/vnd.jupyter.widget-view+json": {
       "model_id": "02085a31937348cda4abefe60107e2e2",
       "version_major": 2,
       "version_minor": 0
      },
      "text/plain": [
       "HBox(children=(FloatProgress(value=0.0, description='Samples', max=40.0, style=ProgressStyle(description_width…"
      ]
     },
     "metadata": {},
     "output_type": "display_data"
    },
    {
     "name": "stdout",
     "output_type": "stream",
     "text": [
      "\n"
     ]
    },
    {
     "data": {
      "application/vnd.jupyter.widget-view+json": {
       "model_id": "0b7827cd0b9c4c8a880fcde039b7bb71",
       "version_major": 2,
       "version_minor": 0
      },
      "text/plain": [
       "HBox(children=(FloatProgress(value=0.0, description='Algorithm Iteration', max=50000.0, style=ProgressStyle(de…"
      ]
     },
     "metadata": {},
     "output_type": "display_data"
    },
    {
     "name": "stdout",
     "output_type": "stream",
     "text": [
      "\n"
     ]
    },
    {
     "data": {
      "application/vnd.jupyter.widget-view+json": {
       "model_id": "62fac374bb5e4503a301f76c50adc36d",
       "version_major": 2,
       "version_minor": 0
      },
      "text/plain": [
       "HBox(children=(FloatProgress(value=0.0, description='Samples', max=40.0, style=ProgressStyle(description_width…"
      ]
     },
     "metadata": {},
     "output_type": "display_data"
    },
    {
     "name": "stdout",
     "output_type": "stream",
     "text": [
      "\n"
     ]
    },
    {
     "data": {
      "application/vnd.jupyter.widget-view+json": {
       "model_id": "8194d0d200814e23b0eaf983c0b659f8",
       "version_major": 2,
       "version_minor": 0
      },
      "text/plain": [
       "HBox(children=(FloatProgress(value=0.0, description='Algorithm Iteration', max=50000.0, style=ProgressStyle(de…"
      ]
     },
     "metadata": {},
     "output_type": "display_data"
    },
    {
     "name": "stdout",
     "output_type": "stream",
     "text": [
      "\n"
     ]
    },
    {
     "data": {
      "application/vnd.jupyter.widget-view+json": {
       "model_id": "6f8394e5f2de4d2c8722900502551f0b",
       "version_major": 2,
       "version_minor": 0
      },
      "text/plain": [
       "HBox(children=(FloatProgress(value=0.0, description='Samples', max=40.0, style=ProgressStyle(description_width…"
      ]
     },
     "metadata": {},
     "output_type": "display_data"
    },
    {
     "name": "stdout",
     "output_type": "stream",
     "text": [
      "\n"
     ]
    },
    {
     "data": {
      "application/vnd.jupyter.widget-view+json": {
       "model_id": "c25500e6dd924f83a5add04c8efde19e",
       "version_major": 2,
       "version_minor": 0
      },
      "text/plain": [
       "HBox(children=(FloatProgress(value=0.0, description='Algorithm Iteration', max=50000.0, style=ProgressStyle(de…"
      ]
     },
     "metadata": {},
     "output_type": "display_data"
    },
    {
     "name": "stdout",
     "output_type": "stream",
     "text": [
      "\n"
     ]
    },
    {
     "data": {
      "application/vnd.jupyter.widget-view+json": {
       "model_id": "109fb74847b945fe910bffce1e65ee20",
       "version_major": 2,
       "version_minor": 0
      },
      "text/plain": [
       "HBox(children=(FloatProgress(value=0.0, description='Samples', max=40.0, style=ProgressStyle(description_width…"
      ]
     },
     "metadata": {},
     "output_type": "display_data"
    },
    {
     "name": "stdout",
     "output_type": "stream",
     "text": [
      "\n"
     ]
    },
    {
     "data": {
      "application/vnd.jupyter.widget-view+json": {
       "model_id": "bfa0e797012047689982835cf855e9ce",
       "version_major": 2,
       "version_minor": 0
      },
      "text/plain": [
       "HBox(children=(FloatProgress(value=0.0, description='Algorithm Iteration', max=50000.0, style=ProgressStyle(de…"
      ]
     },
     "metadata": {},
     "output_type": "display_data"
    },
    {
     "name": "stdout",
     "output_type": "stream",
     "text": [
      "\n"
     ]
    },
    {
     "data": {
      "application/vnd.jupyter.widget-view+json": {
       "model_id": "8f7fba133b5f4c8ea45fd3e01c930a7d",
       "version_major": 2,
       "version_minor": 0
      },
      "text/plain": [
       "HBox(children=(FloatProgress(value=0.0, description='Samples', max=40.0, style=ProgressStyle(description_width…"
      ]
     },
     "metadata": {},
     "output_type": "display_data"
    },
    {
     "name": "stdout",
     "output_type": "stream",
     "text": [
      "\n"
     ]
    },
    {
     "data": {
      "application/vnd.jupyter.widget-view+json": {
       "model_id": "a3e197a78edb43158c6d6a73e2883fb1",
       "version_major": 2,
       "version_minor": 0
      },
      "text/plain": [
       "HBox(children=(FloatProgress(value=0.0, description='Algorithm Iteration', max=50000.0, style=ProgressStyle(de…"
      ]
     },
     "metadata": {},
     "output_type": "display_data"
    },
    {
     "name": "stdout",
     "output_type": "stream",
     "text": [
      "\n"
     ]
    },
    {
     "data": {
      "application/vnd.jupyter.widget-view+json": {
       "model_id": "d98f2f02a3554601b7fe99b953b3fb2a",
       "version_major": 2,
       "version_minor": 0
      },
      "text/plain": [
       "HBox(children=(FloatProgress(value=0.0, description='Samples', max=40.0, style=ProgressStyle(description_width…"
      ]
     },
     "metadata": {},
     "output_type": "display_data"
    },
    {
     "name": "stdout",
     "output_type": "stream",
     "text": [
      "\n"
     ]
    },
    {
     "data": {
      "application/vnd.jupyter.widget-view+json": {
       "model_id": "d9b2e817798d4d4f8530f37d42c08eb8",
       "version_major": 2,
       "version_minor": 0
      },
      "text/plain": [
       "HBox(children=(FloatProgress(value=0.0, description='Algorithm Iteration', max=50000.0, style=ProgressStyle(de…"
      ]
     },
     "metadata": {},
     "output_type": "display_data"
    },
    {
     "name": "stdout",
     "output_type": "stream",
     "text": [
      "\n"
     ]
    },
    {
     "data": {
      "application/vnd.jupyter.widget-view+json": {
       "model_id": "c81bb4b5ad1e4ce8a6dd47c9f19e6ac1",
       "version_major": 2,
       "version_minor": 0
      },
      "text/plain": [
       "HBox(children=(FloatProgress(value=0.0, description='Samples', max=40.0, style=ProgressStyle(description_width…"
      ]
     },
     "metadata": {},
     "output_type": "display_data"
    },
    {
     "name": "stdout",
     "output_type": "stream",
     "text": [
      "\n"
     ]
    },
    {
     "data": {
      "application/vnd.jupyter.widget-view+json": {
       "model_id": "90e2a999c9d74a0288cbaf022bbded25",
       "version_major": 2,
       "version_minor": 0
      },
      "text/plain": [
       "HBox(children=(FloatProgress(value=0.0, description='Algorithm Iteration', max=50000.0, style=ProgressStyle(de…"
      ]
     },
     "metadata": {},
     "output_type": "display_data"
    },
    {
     "name": "stdout",
     "output_type": "stream",
     "text": [
      "\n"
     ]
    },
    {
     "data": {
      "application/vnd.jupyter.widget-view+json": {
       "model_id": "19db1b0bf18c46c6a7733d0ee67f481c",
       "version_major": 2,
       "version_minor": 0
      },
      "text/plain": [
       "HBox(children=(FloatProgress(value=0.0, description='Samples', max=40.0, style=ProgressStyle(description_width…"
      ]
     },
     "metadata": {},
     "output_type": "display_data"
    },
    {
     "name": "stdout",
     "output_type": "stream",
     "text": [
      "\n"
     ]
    },
    {
     "data": {
      "application/vnd.jupyter.widget-view+json": {
       "model_id": "12bb29fce30e4166ab49c93c232cf5cf",
       "version_major": 2,
       "version_minor": 0
      },
      "text/plain": [
       "HBox(children=(FloatProgress(value=0.0, description='Algorithm Iteration', max=50000.0, style=ProgressStyle(de…"
      ]
     },
     "metadata": {},
     "output_type": "display_data"
    },
    {
     "name": "stdout",
     "output_type": "stream",
     "text": [
      "\n"
     ]
    },
    {
     "data": {
      "application/vnd.jupyter.widget-view+json": {
       "model_id": "d3d8167236de44b7b44a8d58a42e59ea",
       "version_major": 2,
       "version_minor": 0
      },
      "text/plain": [
       "HBox(children=(FloatProgress(value=0.0, description='Samples', max=40.0, style=ProgressStyle(description_width…"
      ]
     },
     "metadata": {},
     "output_type": "display_data"
    },
    {
     "name": "stdout",
     "output_type": "stream",
     "text": [
      "\n"
     ]
    },
    {
     "data": {
      "application/vnd.jupyter.widget-view+json": {
       "model_id": "82e69d15b78f44638b00512bbc3bb02e",
       "version_major": 2,
       "version_minor": 0
      },
      "text/plain": [
       "HBox(children=(FloatProgress(value=0.0, description='Algorithm Iteration', max=50000.0, style=ProgressStyle(de…"
      ]
     },
     "metadata": {},
     "output_type": "display_data"
    },
    {
     "name": "stdout",
     "output_type": "stream",
     "text": [
      "\n"
     ]
    },
    {
     "data": {
      "application/vnd.jupyter.widget-view+json": {
       "model_id": "426f6fd1147047a0b1110591ec79d86f",
       "version_major": 2,
       "version_minor": 0
      },
      "text/plain": [
       "HBox(children=(FloatProgress(value=0.0, description='Samples', max=40.0, style=ProgressStyle(description_width…"
      ]
     },
     "metadata": {},
     "output_type": "display_data"
    },
    {
     "name": "stdout",
     "output_type": "stream",
     "text": [
      "\n"
     ]
    },
    {
     "data": {
      "application/vnd.jupyter.widget-view+json": {
       "model_id": "3892943c7a9f4af9abf9eece26a93431",
       "version_major": 2,
       "version_minor": 0
      },
      "text/plain": [
       "HBox(children=(FloatProgress(value=0.0, description='Algorithm Iteration', max=50000.0, style=ProgressStyle(de…"
      ]
     },
     "metadata": {},
     "output_type": "display_data"
    },
    {
     "name": "stdout",
     "output_type": "stream",
     "text": [
      "\n"
     ]
    },
    {
     "data": {
      "application/vnd.jupyter.widget-view+json": {
       "model_id": "95d8b22af0144da08cd2838601603067",
       "version_major": 2,
       "version_minor": 0
      },
      "text/plain": [
       "HBox(children=(FloatProgress(value=0.0, description='Samples', max=40.0, style=ProgressStyle(description_width…"
      ]
     },
     "metadata": {},
     "output_type": "display_data"
    },
    {
     "name": "stdout",
     "output_type": "stream",
     "text": [
      "\n"
     ]
    },
    {
     "data": {
      "application/vnd.jupyter.widget-view+json": {
       "model_id": "83bbb674142241dc93552fdbf248efcb",
       "version_major": 2,
       "version_minor": 0
      },
      "text/plain": [
       "HBox(children=(FloatProgress(value=0.0, description='Algorithm Iteration', max=50000.0, style=ProgressStyle(de…"
      ]
     },
     "metadata": {},
     "output_type": "display_data"
    },
    {
     "name": "stdout",
     "output_type": "stream",
     "text": [
      "\n"
     ]
    },
    {
     "data": {
      "application/vnd.jupyter.widget-view+json": {
       "model_id": "80f447c578d94ae6b3ccdb45243eac1c",
       "version_major": 2,
       "version_minor": 0
      },
      "text/plain": [
       "HBox(children=(FloatProgress(value=0.0, description='Samples', max=40.0, style=ProgressStyle(description_width…"
      ]
     },
     "metadata": {},
     "output_type": "display_data"
    },
    {
     "name": "stdout",
     "output_type": "stream",
     "text": [
      "\n"
     ]
    },
    {
     "data": {
      "application/vnd.jupyter.widget-view+json": {
       "model_id": "bb5dcfa473154f4495cec69fc0879d07",
       "version_major": 2,
       "version_minor": 0
      },
      "text/plain": [
       "HBox(children=(FloatProgress(value=0.0, description='Algorithm Iteration', max=50000.0, style=ProgressStyle(de…"
      ]
     },
     "metadata": {},
     "output_type": "display_data"
    },
    {
     "name": "stdout",
     "output_type": "stream",
     "text": [
      "\n"
     ]
    },
    {
     "data": {
      "application/vnd.jupyter.widget-view+json": {
       "model_id": "3fa86ccb149d4dd6b3c0d736460dea0d",
       "version_major": 2,
       "version_minor": 0
      },
      "text/plain": [
       "HBox(children=(FloatProgress(value=0.0, description='Samples', max=40.0, style=ProgressStyle(description_width…"
      ]
     },
     "metadata": {},
     "output_type": "display_data"
    },
    {
     "name": "stdout",
     "output_type": "stream",
     "text": [
      "\n"
     ]
    },
    {
     "data": {
      "application/vnd.jupyter.widget-view+json": {
       "model_id": "b7e1b1f9c3ca4282a324c7534e460e8d",
       "version_major": 2,
       "version_minor": 0
      },
      "text/plain": [
       "HBox(children=(FloatProgress(value=0.0, description='Algorithm Iteration', max=50000.0, style=ProgressStyle(de…"
      ]
     },
     "metadata": {},
     "output_type": "display_data"
    },
    {
     "name": "stdout",
     "output_type": "stream",
     "text": [
      "\n"
     ]
    },
    {
     "data": {
      "application/vnd.jupyter.widget-view+json": {
       "model_id": "75acaf7532674d56af0ee4ec828322aa",
       "version_major": 2,
       "version_minor": 0
      },
      "text/plain": [
       "HBox(children=(FloatProgress(value=0.0, description='Samples', max=40.0, style=ProgressStyle(description_width…"
      ]
     },
     "metadata": {},
     "output_type": "display_data"
    },
    {
     "name": "stdout",
     "output_type": "stream",
     "text": [
      "\n"
     ]
    },
    {
     "data": {
      "application/vnd.jupyter.widget-view+json": {
       "model_id": "2b2c44967b1440038f026250611125ae",
       "version_major": 2,
       "version_minor": 0
      },
      "text/plain": [
       "HBox(children=(FloatProgress(value=0.0, description='Algorithm Iteration', max=50000.0, style=ProgressStyle(de…"
      ]
     },
     "metadata": {},
     "output_type": "display_data"
    },
    {
     "name": "stdout",
     "output_type": "stream",
     "text": [
      "\n"
     ]
    },
    {
     "data": {
      "application/vnd.jupyter.widget-view+json": {
       "model_id": "071e169ca5004c42989dcf563cc81f21",
       "version_major": 2,
       "version_minor": 0
      },
      "text/plain": [
       "HBox(children=(FloatProgress(value=0.0, description='Samples', max=40.0, style=ProgressStyle(description_width…"
      ]
     },
     "metadata": {},
     "output_type": "display_data"
    },
    {
     "name": "stdout",
     "output_type": "stream",
     "text": [
      "\n"
     ]
    },
    {
     "data": {
      "application/vnd.jupyter.widget-view+json": {
       "model_id": "e902fa281af34d028bfe0afe8978ef8b",
       "version_major": 2,
       "version_minor": 0
      },
      "text/plain": [
       "HBox(children=(FloatProgress(value=0.0, description='Algorithm Iteration', max=50000.0, style=ProgressStyle(de…"
      ]
     },
     "metadata": {},
     "output_type": "display_data"
    },
    {
     "name": "stdout",
     "output_type": "stream",
     "text": [
      "\n"
     ]
    },
    {
     "data": {
      "application/vnd.jupyter.widget-view+json": {
       "model_id": "448a794bbe34496c84363ce898cf3dec",
       "version_major": 2,
       "version_minor": 0
      },
      "text/plain": [
       "HBox(children=(FloatProgress(value=0.0, description='Samples', max=40.0, style=ProgressStyle(description_width…"
      ]
     },
     "metadata": {},
     "output_type": "display_data"
    },
    {
     "name": "stdout",
     "output_type": "stream",
     "text": [
      "\n"
     ]
    },
    {
     "data": {
      "application/vnd.jupyter.widget-view+json": {
       "model_id": "1b4cbf60a1044876b1ef1079e2740ddd",
       "version_major": 2,
       "version_minor": 0
      },
      "text/plain": [
       "HBox(children=(FloatProgress(value=0.0, description='Algorithm Iteration', max=50000.0, style=ProgressStyle(de…"
      ]
     },
     "metadata": {},
     "output_type": "display_data"
    },
    {
     "name": "stdout",
     "output_type": "stream",
     "text": [
      "\n"
     ]
    },
    {
     "data": {
      "application/vnd.jupyter.widget-view+json": {
       "model_id": "2181ba80b46444edb9d14803c019e193",
       "version_major": 2,
       "version_minor": 0
      },
      "text/plain": [
       "HBox(children=(FloatProgress(value=0.0, description='Samples', max=40.0, style=ProgressStyle(description_width…"
      ]
     },
     "metadata": {},
     "output_type": "display_data"
    },
    {
     "name": "stdout",
     "output_type": "stream",
     "text": [
      "\n"
     ]
    },
    {
     "data": {
      "application/vnd.jupyter.widget-view+json": {
       "model_id": "b3ef723413444172b504857d83f84c99",
       "version_major": 2,
       "version_minor": 0
      },
      "text/plain": [
       "HBox(children=(FloatProgress(value=0.0, description='Algorithm Iteration', max=50000.0, style=ProgressStyle(de…"
      ]
     },
     "metadata": {},
     "output_type": "display_data"
    },
    {
     "name": "stdout",
     "output_type": "stream",
     "text": [
      "\n"
     ]
    },
    {
     "data": {
      "application/vnd.jupyter.widget-view+json": {
       "model_id": "70abd97e0bff460a82d7844f3f3b51df",
       "version_major": 2,
       "version_minor": 0
      },
      "text/plain": [
       "HBox(children=(FloatProgress(value=0.0, description='Samples', max=40.0, style=ProgressStyle(description_width…"
      ]
     },
     "metadata": {},
     "output_type": "display_data"
    },
    {
     "name": "stdout",
     "output_type": "stream",
     "text": [
      "\n"
     ]
    },
    {
     "data": {
      "application/vnd.jupyter.widget-view+json": {
       "model_id": "1200375983dc4e9bb48114f251ddef4e",
       "version_major": 2,
       "version_minor": 0
      },
      "text/plain": [
       "HBox(children=(FloatProgress(value=0.0, description='Algorithm Iteration', max=50000.0, style=ProgressStyle(de…"
      ]
     },
     "metadata": {},
     "output_type": "display_data"
    },
    {
     "name": "stdout",
     "output_type": "stream",
     "text": [
      "\n"
     ]
    },
    {
     "data": {
      "application/vnd.jupyter.widget-view+json": {
       "model_id": "9d0f4c95c7774d5a9cf8a2b5879a7a72",
       "version_major": 2,
       "version_minor": 0
      },
      "text/plain": [
       "HBox(children=(FloatProgress(value=0.0, description='Samples', max=40.0, style=ProgressStyle(description_width…"
      ]
     },
     "metadata": {},
     "output_type": "display_data"
    },
    {
     "name": "stdout",
     "output_type": "stream",
     "text": [
      "\n"
     ]
    },
    {
     "data": {
      "application/vnd.jupyter.widget-view+json": {
       "model_id": "004220e4230840b7bad7f7b00adf7132",
       "version_major": 2,
       "version_minor": 0
      },
      "text/plain": [
       "HBox(children=(FloatProgress(value=0.0, description='Algorithm Iteration', max=50000.0, style=ProgressStyle(de…"
      ]
     },
     "metadata": {},
     "output_type": "display_data"
    },
    {
     "name": "stdout",
     "output_type": "stream",
     "text": [
      "\n"
     ]
    },
    {
     "data": {
      "application/vnd.jupyter.widget-view+json": {
       "model_id": "621f24fcfc484911bbadaff89519b1fa",
       "version_major": 2,
       "version_minor": 0
      },
      "text/plain": [
       "HBox(children=(FloatProgress(value=0.0, description='Samples', max=40.0, style=ProgressStyle(description_width…"
      ]
     },
     "metadata": {},
     "output_type": "display_data"
    },
    {
     "name": "stdout",
     "output_type": "stream",
     "text": [
      "\n"
     ]
    },
    {
     "data": {
      "application/vnd.jupyter.widget-view+json": {
       "model_id": "f59f704310e24286a64fe632aafb5b72",
       "version_major": 2,
       "version_minor": 0
      },
      "text/plain": [
       "HBox(children=(FloatProgress(value=0.0, description='Algorithm Iteration', max=50000.0, style=ProgressStyle(de…"
      ]
     },
     "metadata": {},
     "output_type": "display_data"
    },
    {
     "name": "stdout",
     "output_type": "stream",
     "text": [
      "\n"
     ]
    },
    {
     "data": {
      "application/vnd.jupyter.widget-view+json": {
       "model_id": "97e4a5ba794e4f4a8be4aeff081d592e",
       "version_major": 2,
       "version_minor": 0
      },
      "text/plain": [
       "HBox(children=(FloatProgress(value=0.0, description='Samples', max=40.0, style=ProgressStyle(description_width…"
      ]
     },
     "metadata": {},
     "output_type": "display_data"
    },
    {
     "name": "stdout",
     "output_type": "stream",
     "text": [
      "\n"
     ]
    },
    {
     "data": {
      "application/vnd.jupyter.widget-view+json": {
       "model_id": "52fca361f77742cc9a4b8f052308eaf8",
       "version_major": 2,
       "version_minor": 0
      },
      "text/plain": [
       "HBox(children=(FloatProgress(value=0.0, description='Algorithm Iteration', max=50000.0, style=ProgressStyle(de…"
      ]
     },
     "metadata": {},
     "output_type": "display_data"
    },
    {
     "name": "stdout",
     "output_type": "stream",
     "text": [
      "\n"
     ]
    },
    {
     "data": {
      "application/vnd.jupyter.widget-view+json": {
       "model_id": "f604f78d55974eefb09c894f9645331a",
       "version_major": 2,
       "version_minor": 0
      },
      "text/plain": [
       "HBox(children=(FloatProgress(value=0.0, description='Samples', max=40.0, style=ProgressStyle(description_width…"
      ]
     },
     "metadata": {},
     "output_type": "display_data"
    },
    {
     "name": "stdout",
     "output_type": "stream",
     "text": [
      "\n"
     ]
    },
    {
     "data": {
      "application/vnd.jupyter.widget-view+json": {
       "model_id": "71d16405b2374fbf92d6adff0c9b2dbb",
       "version_major": 2,
       "version_minor": 0
      },
      "text/plain": [
       "HBox(children=(FloatProgress(value=0.0, description='Algorithm Iteration', max=50000.0, style=ProgressStyle(de…"
      ]
     },
     "metadata": {},
     "output_type": "display_data"
    },
    {
     "name": "stdout",
     "output_type": "stream",
     "text": [
      "\n"
     ]
    },
    {
     "data": {
      "application/vnd.jupyter.widget-view+json": {
       "model_id": "122c27f15ef44080b7d367a4964f796c",
       "version_major": 2,
       "version_minor": 0
      },
      "text/plain": [
       "HBox(children=(FloatProgress(value=0.0, description='Samples', max=40.0, style=ProgressStyle(description_width…"
      ]
     },
     "metadata": {},
     "output_type": "display_data"
    },
    {
     "name": "stdout",
     "output_type": "stream",
     "text": [
      "\n"
     ]
    },
    {
     "data": {
      "application/vnd.jupyter.widget-view+json": {
       "model_id": "2733b110b9da4bf1bdf0ed78581def01",
       "version_major": 2,
       "version_minor": 0
      },
      "text/plain": [
       "HBox(children=(FloatProgress(value=0.0, description='Algorithm Iteration', max=50000.0, style=ProgressStyle(de…"
      ]
     },
     "metadata": {},
     "output_type": "display_data"
    },
    {
     "name": "stdout",
     "output_type": "stream",
     "text": [
      "\n"
     ]
    },
    {
     "data": {
      "application/vnd.jupyter.widget-view+json": {
       "model_id": "c6d44abb8a3d4eabb67490d743751e99",
       "version_major": 2,
       "version_minor": 0
      },
      "text/plain": [
       "HBox(children=(FloatProgress(value=0.0, description='Samples', max=40.0, style=ProgressStyle(description_width…"
      ]
     },
     "metadata": {},
     "output_type": "display_data"
    },
    {
     "name": "stdout",
     "output_type": "stream",
     "text": [
      "\n"
     ]
    },
    {
     "data": {
      "application/vnd.jupyter.widget-view+json": {
       "model_id": "e4426acf0e9f49b8a209f11949d89391",
       "version_major": 2,
       "version_minor": 0
      },
      "text/plain": [
       "HBox(children=(FloatProgress(value=0.0, description='Algorithm Iteration', max=50000.0, style=ProgressStyle(de…"
      ]
     },
     "metadata": {},
     "output_type": "display_data"
    },
    {
     "name": "stdout",
     "output_type": "stream",
     "text": [
      "\n"
     ]
    },
    {
     "data": {
      "application/vnd.jupyter.widget-view+json": {
       "model_id": "41a42ea2544248f9bc962300d9f48799",
       "version_major": 2,
       "version_minor": 0
      },
      "text/plain": [
       "HBox(children=(FloatProgress(value=0.0, description='Samples', max=40.0, style=ProgressStyle(description_width…"
      ]
     },
     "metadata": {},
     "output_type": "display_data"
    },
    {
     "name": "stdout",
     "output_type": "stream",
     "text": [
      "\n"
     ]
    },
    {
     "data": {
      "application/vnd.jupyter.widget-view+json": {
       "model_id": "0669c3d6f0814b3a827329a5836fabda",
       "version_major": 2,
       "version_minor": 0
      },
      "text/plain": [
       "HBox(children=(FloatProgress(value=0.0, description='Algorithm Iteration', max=50000.0, style=ProgressStyle(de…"
      ]
     },
     "metadata": {},
     "output_type": "display_data"
    },
    {
     "name": "stdout",
     "output_type": "stream",
     "text": [
      "\n"
     ]
    },
    {
     "data": {
      "application/vnd.jupyter.widget-view+json": {
       "model_id": "ef512ee6f8c6404faf5ebb418d757492",
       "version_major": 2,
       "version_minor": 0
      },
      "text/plain": [
       "HBox(children=(FloatProgress(value=0.0, description='Samples', max=40.0, style=ProgressStyle(description_width…"
      ]
     },
     "metadata": {},
     "output_type": "display_data"
    },
    {
     "name": "stdout",
     "output_type": "stream",
     "text": [
      "\n"
     ]
    },
    {
     "data": {
      "application/vnd.jupyter.widget-view+json": {
       "model_id": "a793e47f12874f6dba75626ce64f51af",
       "version_major": 2,
       "version_minor": 0
      },
      "text/plain": [
       "HBox(children=(FloatProgress(value=0.0, description='Algorithm Iteration', max=50000.0, style=ProgressStyle(de…"
      ]
     },
     "metadata": {},
     "output_type": "display_data"
    },
    {
     "name": "stdout",
     "output_type": "stream",
     "text": [
      "\n"
     ]
    },
    {
     "data": {
      "application/vnd.jupyter.widget-view+json": {
       "model_id": "212e425453c44d57ad0321d9e7e19572",
       "version_major": 2,
       "version_minor": 0
      },
      "text/plain": [
       "HBox(children=(FloatProgress(value=0.0, description='Samples', max=40.0, style=ProgressStyle(description_width…"
      ]
     },
     "metadata": {},
     "output_type": "display_data"
    },
    {
     "name": "stdout",
     "output_type": "stream",
     "text": [
      "\n"
     ]
    },
    {
     "data": {
      "application/vnd.jupyter.widget-view+json": {
       "model_id": "f8c3ae3bdeba461287a7f95faea4cdf7",
       "version_major": 2,
       "version_minor": 0
      },
      "text/plain": [
       "HBox(children=(FloatProgress(value=0.0, description='Algorithm Iteration', max=50000.0, style=ProgressStyle(de…"
      ]
     },
     "metadata": {},
     "output_type": "display_data"
    },
    {
     "name": "stdout",
     "output_type": "stream",
     "text": [
      "\n"
     ]
    },
    {
     "data": {
      "application/vnd.jupyter.widget-view+json": {
       "model_id": "40473308a3b44ab1a2cc7f83743f3eb4",
       "version_major": 2,
       "version_minor": 0
      },
      "text/plain": [
       "HBox(children=(FloatProgress(value=0.0, description='Samples', max=40.0, style=ProgressStyle(description_width…"
      ]
     },
     "metadata": {},
     "output_type": "display_data"
    },
    {
     "name": "stdout",
     "output_type": "stream",
     "text": [
      "\n"
     ]
    },
    {
     "data": {
      "application/vnd.jupyter.widget-view+json": {
       "model_id": "7930ea65ee544633a58fc30aa2329244",
       "version_major": 2,
       "version_minor": 0
      },
      "text/plain": [
       "HBox(children=(FloatProgress(value=0.0, description='Algorithm Iteration', max=50000.0, style=ProgressStyle(de…"
      ]
     },
     "metadata": {},
     "output_type": "display_data"
    },
    {
     "name": "stdout",
     "output_type": "stream",
     "text": [
      "\n"
     ]
    },
    {
     "data": {
      "application/vnd.jupyter.widget-view+json": {
       "model_id": "9366b67e132f4c16887fe383e65eb749",
       "version_major": 2,
       "version_minor": 0
      },
      "text/plain": [
       "HBox(children=(FloatProgress(value=0.0, description='Samples', max=40.0, style=ProgressStyle(description_width…"
      ]
     },
     "metadata": {},
     "output_type": "display_data"
    },
    {
     "name": "stdout",
     "output_type": "stream",
     "text": [
      "\n"
     ]
    },
    {
     "data": {
      "application/vnd.jupyter.widget-view+json": {
       "model_id": "2401268b0f2b41c8bb3929117a91f851",
       "version_major": 2,
       "version_minor": 0
      },
      "text/plain": [
       "HBox(children=(FloatProgress(value=0.0, description='Algorithm Iteration', max=50000.0, style=ProgressStyle(de…"
      ]
     },
     "metadata": {},
     "output_type": "display_data"
    },
    {
     "name": "stdout",
     "output_type": "stream",
     "text": [
      "\n"
     ]
    },
    {
     "data": {
      "application/vnd.jupyter.widget-view+json": {
       "model_id": "46b0acb44ac54769b06df6026d519f63",
       "version_major": 2,
       "version_minor": 0
      },
      "text/plain": [
       "HBox(children=(FloatProgress(value=0.0, description='Samples', max=40.0, style=ProgressStyle(description_width…"
      ]
     },
     "metadata": {},
     "output_type": "display_data"
    },
    {
     "name": "stdout",
     "output_type": "stream",
     "text": [
      "\n"
     ]
    },
    {
     "data": {
      "application/vnd.jupyter.widget-view+json": {
       "model_id": "1b54bbd3ad8a4c5ab5ddc78236041744",
       "version_major": 2,
       "version_minor": 0
      },
      "text/plain": [
       "HBox(children=(FloatProgress(value=0.0, description='Algorithm Iteration', max=50000.0, style=ProgressStyle(de…"
      ]
     },
     "metadata": {},
     "output_type": "display_data"
    },
    {
     "name": "stdout",
     "output_type": "stream",
     "text": [
      "\n"
     ]
    },
    {
     "data": {
      "application/vnd.jupyter.widget-view+json": {
       "model_id": "ace351d5f26d42d28dd7f89a6398879f",
       "version_major": 2,
       "version_minor": 0
      },
      "text/plain": [
       "HBox(children=(FloatProgress(value=0.0, description='Samples', max=40.0, style=ProgressStyle(description_width…"
      ]
     },
     "metadata": {},
     "output_type": "display_data"
    },
    {
     "name": "stdout",
     "output_type": "stream",
     "text": [
      "\n"
     ]
    },
    {
     "data": {
      "application/vnd.jupyter.widget-view+json": {
       "model_id": "50802ec3ef8f4e1d9f648f365c58e999",
       "version_major": 2,
       "version_minor": 0
      },
      "text/plain": [
       "HBox(children=(FloatProgress(value=0.0, description='Algorithm Iteration', max=50000.0, style=ProgressStyle(de…"
      ]
     },
     "metadata": {},
     "output_type": "display_data"
    },
    {
     "name": "stdout",
     "output_type": "stream",
     "text": [
      "\n"
     ]
    },
    {
     "data": {
      "application/vnd.jupyter.widget-view+json": {
       "model_id": "71b5f1d030404ff69ddd68ed64ba539c",
       "version_major": 2,
       "version_minor": 0
      },
      "text/plain": [
       "HBox(children=(FloatProgress(value=0.0, description='Samples', max=40.0, style=ProgressStyle(description_width…"
      ]
     },
     "metadata": {},
     "output_type": "display_data"
    },
    {
     "name": "stdout",
     "output_type": "stream",
     "text": [
      "\n"
     ]
    },
    {
     "data": {
      "application/vnd.jupyter.widget-view+json": {
       "model_id": "ec49c65aa5964356bec846d9e542924a",
       "version_major": 2,
       "version_minor": 0
      },
      "text/plain": [
       "HBox(children=(FloatProgress(value=0.0, description='Algorithm Iteration', max=50000.0, style=ProgressStyle(de…"
      ]
     },
     "metadata": {},
     "output_type": "display_data"
    },
    {
     "name": "stdout",
     "output_type": "stream",
     "text": [
      "\n"
     ]
    },
    {
     "data": {
      "application/vnd.jupyter.widget-view+json": {
       "model_id": "a14a3af7f85b4ad4a834f33412b6a285",
       "version_major": 2,
       "version_minor": 0
      },
      "text/plain": [
       "HBox(children=(FloatProgress(value=0.0, description='Samples', max=40.0, style=ProgressStyle(description_width…"
      ]
     },
     "metadata": {},
     "output_type": "display_data"
    },
    {
     "name": "stdout",
     "output_type": "stream",
     "text": [
      "\n"
     ]
    },
    {
     "data": {
      "application/vnd.jupyter.widget-view+json": {
       "model_id": "4764827d82a043808a963b1daff3f393",
       "version_major": 2,
       "version_minor": 0
      },
      "text/plain": [
       "HBox(children=(FloatProgress(value=0.0, description='Algorithm Iteration', max=50000.0, style=ProgressStyle(de…"
      ]
     },
     "metadata": {},
     "output_type": "display_data"
    },
    {
     "name": "stdout",
     "output_type": "stream",
     "text": [
      "\n"
     ]
    },
    {
     "data": {
      "application/vnd.jupyter.widget-view+json": {
       "model_id": "b34f0b51a4ae4e6dbc4be577a0790404",
       "version_major": 2,
       "version_minor": 0
      },
      "text/plain": [
       "HBox(children=(FloatProgress(value=0.0, description='Samples', max=40.0, style=ProgressStyle(description_width…"
      ]
     },
     "metadata": {},
     "output_type": "display_data"
    },
    {
     "name": "stdout",
     "output_type": "stream",
     "text": [
      "\n"
     ]
    },
    {
     "data": {
      "application/vnd.jupyter.widget-view+json": {
       "model_id": "824ee4e208144a0fbc74113ea6e4a510",
       "version_major": 2,
       "version_minor": 0
      },
      "text/plain": [
       "HBox(children=(FloatProgress(value=0.0, description='Algorithm Iteration', max=50000.0, style=ProgressStyle(de…"
      ]
     },
     "metadata": {},
     "output_type": "display_data"
    },
    {
     "name": "stdout",
     "output_type": "stream",
     "text": [
      "\n"
     ]
    },
    {
     "data": {
      "application/vnd.jupyter.widget-view+json": {
       "model_id": "8d2593f2929d4d02bd0d71ab37096d6e",
       "version_major": 2,
       "version_minor": 0
      },
      "text/plain": [
       "HBox(children=(FloatProgress(value=0.0, description='Samples', max=40.0, style=ProgressStyle(description_width…"
      ]
     },
     "metadata": {},
     "output_type": "display_data"
    },
    {
     "name": "stdout",
     "output_type": "stream",
     "text": [
      "\n"
     ]
    },
    {
     "data": {
      "application/vnd.jupyter.widget-view+json": {
       "model_id": "4bc9cfb447e04899b1c3e2e3fc6a6ad9",
       "version_major": 2,
       "version_minor": 0
      },
      "text/plain": [
       "HBox(children=(FloatProgress(value=0.0, description='Algorithm Iteration', max=50000.0, style=ProgressStyle(de…"
      ]
     },
     "metadata": {},
     "output_type": "display_data"
    },
    {
     "name": "stdout",
     "output_type": "stream",
     "text": [
      "\n"
     ]
    },
    {
     "data": {
      "application/vnd.jupyter.widget-view+json": {
       "model_id": "b32236d4df7d4f9a8f4f34eca3886351",
       "version_major": 2,
       "version_minor": 0
      },
      "text/plain": [
       "HBox(children=(FloatProgress(value=0.0, description='Samples', max=40.0, style=ProgressStyle(description_width…"
      ]
     },
     "metadata": {},
     "output_type": "display_data"
    },
    {
     "name": "stdout",
     "output_type": "stream",
     "text": [
      "\n"
     ]
    },
    {
     "data": {
      "application/vnd.jupyter.widget-view+json": {
       "model_id": "f9a72f08be364b30ab1554dce9733bbf",
       "version_major": 2,
       "version_minor": 0
      },
      "text/plain": [
       "HBox(children=(FloatProgress(value=0.0, description='Algorithm Iteration', max=50000.0, style=ProgressStyle(de…"
      ]
     },
     "metadata": {},
     "output_type": "display_data"
    },
    {
     "name": "stdout",
     "output_type": "stream",
     "text": [
      "\n"
     ]
    },
    {
     "data": {
      "application/vnd.jupyter.widget-view+json": {
       "model_id": "13b22a5903084c30bcb53211732c0fde",
       "version_major": 2,
       "version_minor": 0
      },
      "text/plain": [
       "HBox(children=(FloatProgress(value=0.0, description='Samples', max=40.0, style=ProgressStyle(description_width…"
      ]
     },
     "metadata": {},
     "output_type": "display_data"
    },
    {
     "name": "stdout",
     "output_type": "stream",
     "text": [
      "\n"
     ]
    },
    {
     "data": {
      "application/vnd.jupyter.widget-view+json": {
       "model_id": "72d762ae1bb749b9b4eb1713f273b92b",
       "version_major": 2,
       "version_minor": 0
      },
      "text/plain": [
       "HBox(children=(FloatProgress(value=0.0, description='Algorithm Iteration', max=50000.0, style=ProgressStyle(de…"
      ]
     },
     "metadata": {},
     "output_type": "display_data"
    },
    {
     "name": "stdout",
     "output_type": "stream",
     "text": [
      "\n"
     ]
    },
    {
     "data": {
      "application/vnd.jupyter.widget-view+json": {
       "model_id": "b3ab0028dba44de984fbcc52f00da5eb",
       "version_major": 2,
       "version_minor": 0
      },
      "text/plain": [
       "HBox(children=(FloatProgress(value=0.0, description='Samples', max=40.0, style=ProgressStyle(description_width…"
      ]
     },
     "metadata": {},
     "output_type": "display_data"
    },
    {
     "name": "stdout",
     "output_type": "stream",
     "text": [
      "\n",
      "\n"
     ]
    }
   ],
   "source": [
    "# Other params\n",
    "J = 1.0\n",
    "h = 0.0\n",
    "\n",
    "# Number of iterations\n",
    "IT = 50000\n",
    "\n",
    "kT = J*linspace(start=0.5, stop=5.0, num=50)\n",
    "magnetization = zeros(shape=len(kT), dtype=float)\n",
    "magnetization_error = zeros(shape=len(kT), dtype=float)\n",
    "magnetization_analytic = zeros(shape=len(kT), dtype=float)\n",
    "\n",
    "specific_heat = zeros(shape=len(kT), dtype=float)\n",
    "specific_heat_error = zeros(shape=len(kT), dtype=float)\n",
    "\n",
    "for jj,kT_ in tqdm(enumerate(kT), desc='SIMULATIONS'):\n",
    "    beta_ = 1.0/kT_\n",
    "    \n",
    "    si,tseries = Wolff_Sim_2D_Ising(spins=generate_spins(N=(10,10), dim=2, seed=2), \n",
    "                                    J=J, \n",
    "                                    h=h, \n",
    "                                    beta=beta_, \n",
    "                                    IT=IT,\n",
    "                                    plot=False\n",
    "                                   )\n",
    "\n",
    "    # Number of spins in simulation\n",
    "    N = si.size\n",
    "\n",
    "    # Offset in units of iterations\n",
    "    offset = 20 #Para asegurarnos que sea varios tiempos de correlación \n",
    "\n",
    "    initial_index = offset\n",
    "    \n",
    "    # To implement\n",
    "    # Sample size for bootstrap computation\n",
    "    sample_size = int(IT/4) #Procurando que la distancia promedio entre medición sea dos tiempos de \n",
    "                            #correlación \n",
    "    # Number of samples for bootstrap computation\n",
    "    num_samples = 40\n",
    "    \n",
    "    m = zeros(shape=num_samples, dtype=float)\n",
    "    c = zeros(shape=num_samples, dtype=float)\n",
    "\n",
    "    for ii in tqdm(range(num_samples), desc='Samples'):\n",
    "        # We compute the initial and final indices for each block\n",
    "        mask = random.randint(low=initial_index, high=tseries.shape[1], size=sample_size, dtype=int)\n",
    "    \n",
    "        # To implement\n",
    "        m[ii] = (1/N)*sum(tseries[2,mask])/sample_size #Promedio de la magnetización por espín de la muestra tomada \n",
    "        c[ii] =(beta_**2/N)*(sum(tseries[1,mask]**2)/sample_size-(sum(tseries[1,mask])/sample_size)**2)\n",
    "        #Promedio del calor específico por espín de la muestra tomada \n",
    "    # To implement\n",
    "    m_av=sum(m)/num_samples #Calcula el promedio de la magnetización de cada muestra\n",
    "    m2_av=sum(m**2)/num_samples #Calcula el promedio de la magnetiación al cuadrado de cada muestra\n",
    "    magnetization[jj] = m_av\n",
    "    magnetization_error[jj] =sqrt(m2_av-m_av**2) #Calcula la desviación estandar de la magnetización\n",
    "    magnetization_analytic[jj] =0.0\n",
    "    \n",
    "    # To implement\n",
    "    c_av=sum(c)/num_samples #Calcula el promedio del calor específico\n",
    "    c2_av=sum(c**2)/num_samples #Calcula el promedio del cuadrado del calor específico\n",
    "    specific_heat[jj] = c_av \n",
    "    specific_heat_error[jj] = sqrt(c2_av-c_av**2) #Calcula la desviación estandar del calor específico"
   ]
  },
  {
   "cell_type": "markdown",
   "metadata": {},
   "source": [
    "En esta sección del códico se calcula la magnetización y el calor específico para una muestra de 5x5 átomos a diferentes temperaturas empleando el algoritmo de Wolf y el método de bootstrap.\n",
    "\n",
    "El método de bootstrap consiste en generar listas de n mediociones de forma aleatoria de tal forma que preferentemente (aunque no afecta tanto al resultado final) tales medicines sean independientes de acuerdo al criterio de independencia que nos da el tiempo de correlación, es decir, procurando que la distancia entre mediciones sea mayor a dos veces el tiempo de correlación. \n",
    "\n",
    "Como el conjunto de mediciones se toma de forma aleatoria, procuramos que el tamaño de la muetra sea de \n",
    "$$\\begin{equation}\n",
    "n=\\frac{t_{max}}{2 \\tau}\n",
    "\\end{equation}$$\n",
    "Ya que esto permite que la distancia promedio entre cada medición sea $2 \\tau$. Sin embargo también se busca que el código no tome demasiado tiempo por lo que cualquier distanciamiento mayor que no nos de un número pobre de medidas por muestra es aceptable. \n",
    "\n",
    "Una vez obtenida la muestra, se calcula el promedio de la magnetización y el calor específico empleando las fórmulas usadas en el ejercicio 1. \n",
    "\n",
    "Se hace un \"resampling\" aleatorio un total de $N_{samples}$ y se calcula la magnetización y el calor específico en cada ocasión, lo cual nos perimte obtener sus errores.\n",
    "$$\n",
    "\\sigma_m=\\sqrt{\\langle m^2\\rangle-\\langle m\\rangle^2}\n",
    "$$\n",
    "\n",
    "$$\n",
    "\\sigma_c=\\sqrt{\\langle c^2\\rangle-\\langle c\\rangle^2}\n",
    "$$"
   ]
  },
  {
   "cell_type": "code",
   "execution_count": 99,
   "metadata": {},
   "outputs": [],
   "source": [
    "def Analitic_Magnetization(kT,J):\n",
    "    \"\"\" Esta función calcula la magnetización analítica encontrada en las notas\n",
    "        vía los parámetros kT y J (la constante de acoplamiento)\n",
    "    \"\"\"\n",
    "    s=sinh(2*J/kT)\n",
    "    if 1-s**(-4)>0.: \n",
    "        M=(1-s**(-4))**(1/8)\n",
    "    else:\n",
    "        M=0\n",
    "    return M "
   ]
  },
  {
   "cell_type": "code",
   "execution_count": 100,
   "metadata": {},
   "outputs": [],
   "source": [
    "magnetization_analytic=[]\n",
    "for kT_ in kT:\n",
    "    M=Analitic_Magnetization(kT_,J)\n",
    "    magnetization_analytic.append(M)"
   ]
  },
  {
   "cell_type": "code",
   "execution_count": 101,
   "metadata": {},
   "outputs": [
    {
     "data": {
      "image/png": "[encoded data removed]",
      "text/plain": [
       "<Figure size 432x288 with 2 Axes>"
      ]
     },
     "metadata": {
      "needs_background": "light"
     },
     "output_type": "display_data"
    }
   ],
   "source": [
    "fig, axl = plt.subplots()\n",
    "\n",
    "color = 'tab:red'\n",
    "axl.set_xlabel(r'$kT$')\n",
    "axl.set_ylabel(r'$m$', color=color)\n",
    "axl.errorbar(kT, magnetization, magnetization_error, color=color, \n",
    "             marker='o', elinewidth=2.0, linewidth=0.0, markersize=4.0,\n",
    "             capsize=2.0, label='MC $m(T)$')\n",
    "axl.plot(kT, magnetization_analytic, color='black', marker='.', label='Theory $m(T)$')\n",
    "axl.tick_params(axis='y', labelcolor=color)\n",
    "\n",
    "axr = axl.twinx()  # instantiate a second axes that shares the same x-axis\n",
    "\n",
    "color = 'tab:blue'\n",
    "axr.set_ylabel(r'$c$', color=color)\n",
    "axr.errorbar(kT,specific_heat, specific_heat_error, color=color,\n",
    "             elinewidth=2.0, linewidth=0.0, marker='o',markersize=4.0,\n",
    "             capsize=2.0,label='MC $c(T)$')\n",
    "axr.tick_params(axis='y', labelcolor=color)\n",
    "\n",
    "plt.grid(b=True, which='both', axis='both')\n",
    "fig.tight_layout()  # otherwise the right y-label is slightly clipped\n",
    "\n",
    "\n",
    "fig.legend()\n",
    "plt.show()"
   ]
  },
  {
   "cell_type": "code",
   "execution_count": null,
   "metadata": {},
   "outputs": [],
   "source": []
  }
 ],
 "metadata": {
  "kernelspec": {
   "display_name": "Python 3",
   "language": "python",
   "name": "python3"
  },
  "language_info": {
   "codemirror_mode": {
    "name": "ipython",
    "version": 3
   },
   "file_extension": ".py",
   "mimetype": "text/x-python",
   "name": "python",
   "nbconvert_exporter": "python",
   "pygments_lexer": "ipython3",
   "version": "3.6.5"
  }
 },
 "nbformat": 4,
 "nbformat_minor": 4
}
